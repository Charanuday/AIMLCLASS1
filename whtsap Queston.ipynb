{
 "cells": [
  {
   "cell_type": "markdown",
   "id": "8b268dd8-8f73-417f-9858-b3095ffa5f79",
   "metadata": {},
   "source": [
    "📌 1. Create the DataFrame\n"
   ]
  },
  {
   "cell_type": "code",
   "execution_count": 25,
   "id": "51ac1873-18cf-43ec-aa65-f67da47ff2f5",
   "metadata": {},
   "outputs": [
    {
     "name": "stdout",
     "output_type": "stream",
     "text": [
      "   Rollno    Name  Age  Marks_math  Marks_Eng Gender\n",
      "0     101    Riya   17          88         92      F\n",
      "1     102   Arjun   18          75         85      M\n",
      "2     103   Sneha   17          90         78      F\n",
      "3     104  Rakesh   19          65         70      M\n",
      "4     105   Aditi   18          95         88      F\n"
     ]
    }
   ],
   "source": [
    "import pandas as pd\n",
    "data={\n",
    "    \"Rollno\":[101,102,103,104,105],\n",
    "    \"Name\":['Riya','Arjun','Sneha','Rakesh','Aditi'],\n",
    "    \"Age\":[17,18,17,19,18],\n",
    "    \"Marks_math\":[88,75,90,65,95],\n",
    "    \"Marks_Eng\":[92,85,78,70,88],\n",
    "    \"Gender\":['F','M','F','M','F'],\n",
    "}\n",
    "df=pd.DataFrame(data)\n",
    "print(df)"
   ]
  },
  {
   "cell_type": "markdown",
   "id": "dbdc5ca2-252b-4514-a8d8-bad9170e9f57",
   "metadata": {},
   "source": [
    "2. Display only the names and English marks of all students.\n"
   ]
  },
  {
   "cell_type": "code",
   "execution_count": 26,
   "id": "ebfde48d-31c6-4296-a42f-c10edf6ff2f9",
   "metadata": {},
   "outputs": [
    {
     "name": "stdout",
     "output_type": "stream",
     "text": [
      "     Name  Marks_math\n",
      "0    Riya          88\n",
      "1   Arjun          75\n",
      "2   Sneha          90\n",
      "3  Rakesh          65\n",
      "4   Aditi          95\n"
     ]
    }
   ],
   "source": [
    "print(df[['Name','Marks_math']])"
   ]
  },
  {
   "cell_type": "markdown",
   "id": "d6f8ef07-987f-4ac2-a32d-8fa0bdbefff8",
   "metadata": {},
   "source": [
    "3. Add a new column “Total_Marks” as the sum of Marks_Math and Marks_Eng.\n"
   ]
  },
  {
   "cell_type": "code",
   "execution_count": 27,
   "id": "0c42072a-5d69-4ad0-9332-0bddeaca2730",
   "metadata": {},
   "outputs": [
    {
     "data": {
      "text/html": [
       "<div>\n",
       "<style scoped>\n",
       "    .dataframe tbody tr th:only-of-type {\n",
       "        vertical-align: middle;\n",
       "    }\n",
       "\n",
       "    .dataframe tbody tr th {\n",
       "        vertical-align: top;\n",
       "    }\n",
       "\n",
       "    .dataframe thead th {\n",
       "        text-align: right;\n",
       "    }\n",
       "</style>\n",
       "<table border=\"1\" class=\"dataframe\">\n",
       "  <thead>\n",
       "    <tr style=\"text-align: right;\">\n",
       "      <th></th>\n",
       "      <th>Rollno</th>\n",
       "      <th>Name</th>\n",
       "      <th>Age</th>\n",
       "      <th>Marks_math</th>\n",
       "      <th>Marks_Eng</th>\n",
       "      <th>Gender</th>\n",
       "      <th>Total_marks</th>\n",
       "    </tr>\n",
       "  </thead>\n",
       "  <tbody>\n",
       "    <tr>\n",
       "      <th>0</th>\n",
       "      <td>101</td>\n",
       "      <td>Riya</td>\n",
       "      <td>17</td>\n",
       "      <td>88</td>\n",
       "      <td>92</td>\n",
       "      <td>F</td>\n",
       "      <td>180</td>\n",
       "    </tr>\n",
       "    <tr>\n",
       "      <th>1</th>\n",
       "      <td>102</td>\n",
       "      <td>Arjun</td>\n",
       "      <td>18</td>\n",
       "      <td>75</td>\n",
       "      <td>85</td>\n",
       "      <td>M</td>\n",
       "      <td>160</td>\n",
       "    </tr>\n",
       "    <tr>\n",
       "      <th>2</th>\n",
       "      <td>103</td>\n",
       "      <td>Sneha</td>\n",
       "      <td>17</td>\n",
       "      <td>90</td>\n",
       "      <td>78</td>\n",
       "      <td>F</td>\n",
       "      <td>168</td>\n",
       "    </tr>\n",
       "    <tr>\n",
       "      <th>3</th>\n",
       "      <td>104</td>\n",
       "      <td>Rakesh</td>\n",
       "      <td>19</td>\n",
       "      <td>65</td>\n",
       "      <td>70</td>\n",
       "      <td>M</td>\n",
       "      <td>135</td>\n",
       "    </tr>\n",
       "    <tr>\n",
       "      <th>4</th>\n",
       "      <td>105</td>\n",
       "      <td>Aditi</td>\n",
       "      <td>18</td>\n",
       "      <td>95</td>\n",
       "      <td>88</td>\n",
       "      <td>F</td>\n",
       "      <td>183</td>\n",
       "    </tr>\n",
       "  </tbody>\n",
       "</table>\n",
       "</div>"
      ],
      "text/plain": [
       "   Rollno    Name  Age  Marks_math  Marks_Eng Gender  Total_marks\n",
       "0     101    Riya   17          88         92      F          180\n",
       "1     102   Arjun   18          75         85      M          160\n",
       "2     103   Sneha   17          90         78      F          168\n",
       "3     104  Rakesh   19          65         70      M          135\n",
       "4     105   Aditi   18          95         88      F          183"
      ]
     },
     "execution_count": 27,
     "metadata": {},
     "output_type": "execute_result"
    }
   ],
   "source": [
    "df['Total_marks']=df[['Marks_math','Marks_Eng']].sum(axis=1)\n",
    "df"
   ]
  },
  {
   "cell_type": "markdown",
   "id": "961ac0ea-c3f6-49e2-8c06-33265002a5fb",
   "metadata": {},
   "source": [
    "4. Find the average marks in Math using a Pandas function.\n"
   ]
  },
  {
   "cell_type": "code",
   "execution_count": 28,
   "id": "97093789-dee0-47aa-9e13-4a79736e2e9f",
   "metadata": {},
   "outputs": [
    {
     "name": "stdout",
     "output_type": "stream",
     "text": [
      "82.6\n"
     ]
    }
   ],
   "source": [
    "avg=(df['Marks_math'].mean())\n",
    "print(avg)"
   ]
  },
  {
   "cell_type": "markdown",
   "id": "512848ee-fee1-4758-b091-3849fe33801b",
   "metadata": {},
   "source": [
    "5. Display the records of all female students.\n"
   ]
  },
  {
   "cell_type": "code",
   "execution_count": 29,
   "id": "10a04761-9015-4f35-9435-bd7221e0a272",
   "metadata": {},
   "outputs": [
    {
     "name": "stdout",
     "output_type": "stream",
     "text": [
      "   Rollno   Name  Age  Marks_math  Marks_Eng Gender  Total_marks\n",
      "0     101   Riya   17          88         92      F          180\n",
      "2     103  Sneha   17          90         78      F          168\n",
      "4     105  Aditi   18          95         88      F          183\n"
     ]
    }
   ],
   "source": [
    "td=(df[df['Gender']=='F'])\n",
    "print(td)"
   ]
  },
  {
   "cell_type": "markdown",
   "id": "d879f69a-77ba-4b61-8cd0-d61a7e4355a0",
   "metadata": {},
   "source": [
    "\n",
    "6. Sort the DataFrame by Marks_Eng in descending order.\n"
   ]
  },
  {
   "cell_type": "code",
   "execution_count": 30,
   "id": "082058e8-5c23-4d97-adc4-5010ddf8d55b",
   "metadata": {},
   "outputs": [
    {
     "name": "stdout",
     "output_type": "stream",
     "text": [
      "0    92\n",
      "4    88\n",
      "1    85\n",
      "2    78\n",
      "3    70\n",
      "Name: Marks_Eng, dtype: int64\n"
     ]
    }
   ],
   "source": [
    "sd=df['Marks_Eng'].sort_values(ascending=False)\n",
    "print(sd)"
   ]
  },
  {
   "cell_type": "markdown",
   "id": "fb7d3e9a-f1a7-4581-b680-e64dd4b88472",
   "metadata": {},
   "source": [
    "7. Replace gender values: “F” → “Female”, “M” → “Male” using .map()"
   ]
  },
  {
   "cell_type": "code",
   "execution_count": 31,
   "id": "19651979-2081-468e-9bcb-20047fe226a2",
   "metadata": {},
   "outputs": [
    {
     "name": "stdout",
     "output_type": "stream",
     "text": [
      "0    Female\n",
      "1      Male\n",
      "2    Female\n",
      "3      Male\n",
      "4    Female\n",
      "Name: Gender, dtype: object\n"
     ]
    }
   ],
   "source": [
    "Gen=df[\"Gender\"].map({\"F\":\"Female\",\"M\":\"Male\"})\n",
    "print(Gen)"
   ]
  },
  {
   "cell_type": "markdown",
   "id": "79003b47-9a0e-4fab-b47b-779551629c8e",
   "metadata": {},
   "source": [
    "8. Add a new column Result with value “Pass” if Total_Marks >= 150, else “Fail” (using apply() with lambda)."
   ]
  },
  {
   "cell_type": "code",
   "execution_count": 32,
   "id": "f60a0668-655d-45df-8590-139344895e99",
   "metadata": {},
   "outputs": [
    {
     "name": "stdout",
     "output_type": "stream",
     "text": [
      "0    Pass\n",
      "1    Pass\n",
      "2    Pass\n",
      "3    Fail\n",
      "4    Pass\n",
      "Name: Total_marks, dtype: object\n"
     ]
    }
   ],
   "source": [
    "ge=df[\"Total_marks\"].apply(lambda x:\"Pass\" if x>=150 else \"Fail\")\n",
    "print(ge)"
   ]
  },
  {
   "cell_type": "markdown",
   "id": "97482861-ed11-4fda-904e-1bccf9fb07b8",
   "metadata": {},
   "source": [
    "9. Use map() to convert all names to uppercase from the Name column.\n"
   ]
  },
  {
   "cell_type": "code",
   "execution_count": 33,
   "id": "04c6f9f3-00ca-4172-8126-163ae9c91a45",
   "metadata": {},
   "outputs": [
    {
     "name": "stdout",
     "output_type": "stream",
     "text": [
      "0      RIYA\n",
      "1     ARJUN\n",
      "2     SNEHA\n",
      "3    RAKESH\n",
      "4     ADITI\n",
      "Name: Name, dtype: object\n"
     ]
    }
   ],
   "source": [
    "upper=df[\"Name\"].map(str.upper)\n",
    "print(upper)"
   ]
  },
  {
   "cell_type": "markdown",
   "id": "928749b9-80d9-49ea-8025-1e72d8f622ae",
   "metadata": {},
   "source": [
    "\n",
    "10. Use filter() to get the list of students whose Marks_Math is greater than 80"
   ]
  },
  {
   "cell_type": "code",
   "execution_count": 34,
   "id": "32d80a52-0053-40f9-9771-8143ea8f0a1b",
   "metadata": {},
   "outputs": [
    {
     "data": {
      "text/plain": [
       "[88, 90, 95]"
      ]
     },
     "execution_count": 34,
     "metadata": {},
     "output_type": "execute_result"
    }
   ],
   "source": [
    "def get(a):\n",
    "    if a>80:\n",
    "        return True\n",
    "l1=df[\"Marks_math\"]\n",
    "res=list(filter(get,l1))\n",
    "res"
   ]
  },
  {
   "cell_type": "markdown",
   "id": "b2d4f256-d426-471c-b15b-e2352d97a7ca",
   "metadata": {},
   "source": [
    "11. Use lambda to create a new column Grade:\n",
    "\n",
    "\t•\tA if Total_Marks ≥ 170\n",
    "\n",
    "\t•\tB if Total_Marks ≥ 150\n",
    "\n",
    "\t•\tC otherwise"
   ]
  },
  {
   "cell_type": "code",
   "execution_count": 35,
   "id": "aa7a6bc2-d9a6-4e6a-a6f3-6d8f390ec666",
   "metadata": {},
   "outputs": [
    {
     "name": "stdout",
     "output_type": "stream",
     "text": [
      "0    A\n",
      "1    c\n",
      "2    c\n",
      "3    c\n",
      "4    A\n",
      "Name: Total_marks, dtype: object\n"
     ]
    }
   ],
   "source": [
    "Ab=df['Grade']=df['Total_marks'].apply(lambda x: 'A' if x >= 180 else 'c' )\n",
    "print(Ab)"
   ]
  },
  {
   "cell_type": "markdown",
   "id": "bd1a6717-b639-4d30-8ba2-82728f9a404f",
   "metadata": {},
   "source": [
    "\n",
    "12. Use reduce() to calculate the total of all Math marks.\n"
   ]
  },
  {
   "cell_type": "code",
   "execution_count": 36,
   "id": "b80250f6-df54-4788-b577-73a4635ab647",
   "metadata": {},
   "outputs": [
    {
     "name": "stdout",
     "output_type": "stream",
     "text": [
      "413\n"
     ]
    }
   ],
   "source": [
    "from functools import reduce\n",
    "tm=reduce(lambda x,y: x+y, df[\"Marks_math\"])\n",
    "print(tm)"
   ]
  },
  {
   "cell_type": "markdown",
   "id": "c6b014eb-46d5-4b69-999d-34a6e5653386",
   "metadata": {},
   "source": [
    "\n",
    "13. Count how many students are below the age of 18.\n"
   ]
  },
  {
   "cell_type": "code",
   "execution_count": 37,
   "id": "505b6e62-b03c-4839-990a-1cd04bd289fb",
   "metadata": {},
   "outputs": [
    {
     "name": "stdout",
     "output_type": "stream",
     "text": [
      "[17, 17]\n"
     ]
    }
   ],
   "source": [
    "def get(a):\n",
    "    if a<18:\n",
    "        return True\n",
    "l1=(df['Age'])\n",
    "res=list(filter(get,l1))\n",
    "print(res)"
   ]
  },
  {
   "cell_type": "markdown",
   "id": "1799dd49-9f97-464c-b5c3-8379351f0240",
   "metadata": {},
   "source": [
    "14. Create a new column Average which gives average of both subjects.\n"
   ]
  },
  {
   "cell_type": "code",
   "execution_count": 38,
   "id": "c5ccb997-ba74-4495-aab9-161ce017bd25",
   "metadata": {},
   "outputs": [
    {
     "name": "stdout",
     "output_type": "stream",
     "text": [
      "(82.6, 82.6)\n"
     ]
    }
   ],
   "source": [
    "nc=df[\"Marks_math\"].mean(),df['Marks_Eng'].mean()\n",
    "print(nc)"
   ]
  },
  {
   "cell_type": "markdown",
   "id": "bea48084-6029-4b72-8f63-e0bce8a378fa",
   "metadata": {},
   "source": [
    "\n",
    "15. Display names of students who scored more in English than Math."
   ]
  },
  {
   "cell_type": "code",
   "execution_count": 39,
   "id": "2cc43f3c-5d96-4d14-92d9-f74a6d57e20b",
   "metadata": {},
   "outputs": [
    {
     "name": "stdout",
     "output_type": "stream",
     "text": [
      "0     True\n",
      "1     True\n",
      "2    False\n",
      "3     True\n",
      "4    False\n",
      "dtype: bool 0      Riya\n",
      "1     Arjun\n",
      "2     Sneha\n",
      "3    Rakesh\n",
      "4     Aditi\n",
      "Name: Name, dtype: object\n"
     ]
    }
   ],
   "source": [
    "mm=df[\"Marks_Eng\"] > df[\"Marks_math\"]\n",
    "print(mm,df[\"Name\"])"
   ]
  },
  {
   "cell_type": "markdown",
   "id": "55cbfcea-6072-451e-8252-3bc5077ec60b",
   "metadata": {},
   "source": [
    "\n",
    "16. Group students by Gender and calculate average marks for each gender.\n"
   ]
  },
  {
   "cell_type": "code",
   "execution_count": 41,
   "id": "b3b9ec68-97f5-4a2a-8be4-d1d4918256c4",
   "metadata": {},
   "outputs": [
    {
     "name": "stdout",
     "output_type": "stream",
     "text": [
      "        Marks_math  Marks_Eng  Total_marks\n",
      "Gender                                    \n",
      "F             91.0       86.0        177.0\n",
      "M             70.0       77.5        147.5\n"
     ]
    }
   ],
   "source": [
    "ag=df.groupby(\"Gender\")[['Marks_math','Marks_Eng','Total_marks']].mean()\n",
    "print(ag)"
   ]
  },
  {
   "cell_type": "markdown",
   "id": "56d069f8-9eed-4a21-8045-eae53b529e37",
   "metadata": {},
   "source": [
    "17. Find the student with the highest total marks using Pandas.\n"
   ]
  },
  {
   "cell_type": "code",
   "execution_count": 48,
   "id": "50b4c6e9-2405-4b46-99a3-e7e9d25598b7",
   "metadata": {},
   "outputs": [
    {
     "name": "stdout",
     "output_type": "stream",
     "text": [
      "Rollno           105\n",
      "Name           Aditi\n",
      "Age               18\n",
      "Marks_math        95\n",
      "Marks_Eng         88\n",
      "Gender             F\n",
      "Total_marks      183\n",
      "Grade              A\n",
      "Name: 4, dtype: object\n"
     ]
    }
   ],
   "source": [
    "st=df.loc[df[\"Total_marks\"].idxmax()]\n",
    "print(st)"
   ]
  },
  {
   "cell_type": "code",
   "execution_count": null,
   "id": "55920fa9-c217-4cd6-b968-56aa9b5166dc",
   "metadata": {},
   "outputs": [],
   "source": []
  },
  {
   "cell_type": "code",
   "execution_count": null,
   "id": "0e08c76d-ed4d-4f1e-95fd-7a5b4ec7e211",
   "metadata": {},
   "outputs": [],
   "source": []
  }
 ],
 "metadata": {
  "kernelspec": {
   "display_name": "Python 3 (ipykernel)",
   "language": "python",
   "name": "python3"
  },
  "language_info": {
   "codemirror_mode": {
    "name": "ipython",
    "version": 3
   },
   "file_extension": ".py",
   "mimetype": "text/x-python",
   "name": "python",
   "nbconvert_exporter": "python",
   "pygments_lexer": "ipython3",
   "version": "3.12.4"
  }
 },
 "nbformat": 4,
 "nbformat_minor": 5
}
