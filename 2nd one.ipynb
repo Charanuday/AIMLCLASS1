{
 "cells": [
  {
   "cell_type": "markdown",
   "id": "4705caed-718e-43c3-ab39-6b808590c057",
   "metadata": {},
   "source": [
    "1) Here given the bating statistics of indian grate cricketer Anil Kumble.\n",
    "   \n",
    "Perform the following operation."
   ]
  },
  {
   "cell_type": "code",
   "execution_count": 10,
   "id": "fb138528-70c7-4b27-8d45-96e7263ca7c8",
   "metadata": {},
   "outputs": [
    {
     "name": "stdout",
     "output_type": "stream",
     "text": [
      "   Maths  year  Runs  balls Opponent\n",
      "0      1  1996    10     20      AUS\n",
      "1      2  1997    23     30      IND\n",
      "2      3  1998    15     25      PAK\n",
      "3      4  1999    40     20       SA\n",
      "4      5  2000    12     11      ENG\n"
     ]
    }
   ],
   "source": [
    "import pandas as pd\n",
    "import matplotlib.pyplot as plt\n",
    "from datetime import datetime\n",
    "data={\n",
    "    \"Maths\":[1,2,3,4,5],\n",
    "    \"year\":[1996,1997,1998,1999,2000],\n",
    "    \"Runs\":[10,23,15,40,12],\n",
    "    \"balls\":[20,30,25,20,11],\n",
    "    \"Opponent\":[\"AUS\",\"IND\",\"PAK\",\"SA\",\"ENG\"]\n",
    "}\n",
    "df=pd.DataFrame(data)\n",
    "print(df)"
   ]
  },
  {
   "cell_type": "markdown",
   "id": "53b5d6ba-0313-4227-8007-df89c292f6fd",
   "metadata": {},
   "source": [
    "a) Agregation"
   ]
  },
  {
   "cell_type": "code",
   "execution_count": 7,
   "id": "1202e304-57e7-429f-aa4e-4ea0ad00cd53",
   "metadata": {},
   "outputs": [
    {
     "name": "stdout",
     "output_type": "stream",
     "text": [
      "106\n"
     ]
    }
   ],
   "source": [
    "t=(df['balls'].sum())\n",
    "print(t)"
   ]
  },
  {
   "cell_type": "code",
   "execution_count": 8,
   "id": "a9b5c795-4ddc-479a-8be1-5b8916369b6a",
   "metadata": {},
   "outputs": [
    {
     "name": "stdout",
     "output_type": "stream",
     "text": [
      "Total Runs is 106\n",
      "Runs means is 20.0\n",
      "max Runs is 40\n",
      "min Runs is 10\n"
     ]
    }
   ],
   "source": [
    "# 1\n",
    "t_runs=(df['balls'].sum())\n",
    "print(\"Total Runs is\",t_runs)\n",
    "\n",
    "# 2\n",
    "me_runs=(df['Runs'].mean())\n",
    "print(\"Runs means is\",me_runs)\n",
    "\n",
    "# 3\n",
    "max=(df['Runs'].max())\n",
    "print(\"max Runs is\",max)\n",
    "\n",
    "# 4\n",
    "min=(df['Runs'].min())\n",
    "print(\"min Runs is\",min)"
   ]
  },
  {
   "cell_type": "markdown",
   "id": "f449c62a-c5cc-4e6b-b7f2-842817f94456",
   "metadata": {},
   "source": [
    "b)  Grouping"
   ]
  },
  {
   "cell_type": "code",
   "execution_count": 11,
   "id": "bf0c32b8-642a-4c8b-9c97-a2ccb3e4f0e9",
   "metadata": {},
   "outputs": [
    {
     "name": "stdout",
     "output_type": "stream",
     "text": [
      "Opponent\n",
      "AUS    10\n",
      "ENG    12\n",
      "IND    23\n",
      "PAK    15\n",
      "SA     40\n",
      "Name: Runs, dtype: int64\n"
     ]
    }
   ],
   "source": [
    "gr=df.groupby(\"Opponent\")['Runs'].sum()\n",
    "print(gr)\n"
   ]
  },
  {
   "cell_type": "code",
   "execution_count": null,
   "id": "5c8e3705-0d8c-4c91-ae2f-e6c3c8dbb690",
   "metadata": {},
   "outputs": [],
   "source": []
  },
  {
   "cell_type": "code",
   "execution_count": null,
   "id": "854c44a7-be68-4a1d-95a0-ea2babde0990",
   "metadata": {},
   "outputs": [],
   "source": []
  },
  {
   "cell_type": "code",
   "execution_count": null,
   "id": "b92b19e5-b7e0-4fcc-a72b-0be455b48234",
   "metadata": {},
   "outputs": [],
   "source": []
  },
  {
   "cell_type": "code",
   "execution_count": null,
   "id": "cd1707c9-d940-4380-8adc-ff631655dc8e",
   "metadata": {},
   "outputs": [],
   "source": []
  },
  {
   "cell_type": "code",
   "execution_count": null,
   "id": "3b8a2336-6c00-490b-bad1-97378b198788",
   "metadata": {},
   "outputs": [],
   "source": []
  },
  {
   "cell_type": "code",
   "execution_count": null,
   "id": "39f344d6-2388-4459-a8b9-e22310852a91",
   "metadata": {},
   "outputs": [],
   "source": []
  },
  {
   "cell_type": "code",
   "execution_count": null,
   "id": "0ae3e66b-dec0-48a5-8564-0928b6297521",
   "metadata": {},
   "outputs": [],
   "source": []
  },
  {
   "cell_type": "code",
   "execution_count": null,
   "id": "1431abc7-48b9-403c-a299-e6d3f4a91dd5",
   "metadata": {},
   "outputs": [],
   "source": []
  },
  {
   "cell_type": "markdown",
   "id": "18e8ac28-c627-42a3-85fb-6b0db62d13f4",
   "metadata": {},
   "source": [
    "#3. Create a Tow series as Shown using pd.series() function.\n",
    "Series A = [20,30,40,50,60]\n",
    "Series B=[50,60,70,80,90]"
   ]
  },
  {
   "cell_type": "code",
   "execution_count": 5,
   "id": "748b33d1-061e-4bf3-a30b-0c37ae38f906",
   "metadata": {},
   "outputs": [],
   "source": [
    "import pandas as pd\n",
    "import numpy as np"
   ]
  },
  {
   "cell_type": "code",
   "execution_count": 6,
   "id": "44311c94-91f0-44c4-ab44-f4e1752a0540",
   "metadata": {},
   "outputs": [
    {
     "name": "stdout",
     "output_type": "stream",
     "text": [
      "   Series_A  Series_B\n",
      "0        20        50\n",
      "1        30        60\n",
      "2        40        70\n",
      "3        50        80\n",
      "4        60        90\n"
     ]
    }
   ],
   "source": [
    "data={\n",
    "    \"Series_A\":[20,30,40,50,60],\n",
    "    \"Series_B\":[50,60,70,80,90]\n",
    "}\n",
    "df=pd.DataFrame(data)\n",
    "print(df)"
   ]
  },
  {
   "cell_type": "markdown",
   "id": "5d5d87d6-230d-4dba-9f8c-407b082ff916",
   "metadata": {},
   "source": [
    "a) Get the items not comman to both"
   ]
  },
  {
   "cell_type": "code",
   "execution_count": 7,
   "id": "5b5d2106-da24-4c77-8041-4a25d27149ed",
   "metadata": {},
   "outputs": [
    {
     "data": {
      "text/plain": [
       "Series_A    0\n",
       "Series_B    0\n",
       "dtype: int64"
      ]
     },
     "execution_count": 7,
     "metadata": {},
     "output_type": "execute_result"
    }
   ],
   "source": [
    "df.isnull().sum()"
   ]
  },
  {
   "cell_type": "code",
   "execution_count": null,
   "id": "44025d58-2d3c-407d-949f-859e28018c3b",
   "metadata": {},
   "outputs": [],
   "source": []
  },
  {
   "cell_type": "markdown",
   "id": "3e55d036-c5a4-4889-bd4d-4512b06ee274",
   "metadata": {},
   "source": [
    "b) Identify the smallest and laregest element in the Series A."
   ]
  },
  {
   "cell_type": "code",
   "execution_count": 8,
   "id": "ce1cb41f-eeca-4ae2-baef-fe31a9bbfe6e",
   "metadata": {},
   "outputs": [
    {
     "name": "stdout",
     "output_type": "stream",
     "text": [
      "20\n"
     ]
    }
   ],
   "source": [
    "# Smallest Element of Series A\n",
    "sml=(df['Series_A'].min())\n",
    "print(sml)"
   ]
  },
  {
   "cell_type": "code",
   "execution_count": 9,
   "id": "c5173203-29e8-4d14-8e65-ecbf1e073499",
   "metadata": {},
   "outputs": [
    {
     "name": "stdout",
     "output_type": "stream",
     "text": [
      "60\n"
     ]
    }
   ],
   "source": [
    "# larger Element of Series A\n",
    "lar=(df['Series_A'].max())\n",
    "print(lar)"
   ]
  },
  {
   "cell_type": "code",
   "execution_count": null,
   "id": "c34e1cb9-58eb-4a7d-b9a5-c438d5170018",
   "metadata": {},
   "outputs": [],
   "source": []
  },
  {
   "cell_type": "markdown",
   "id": "698c5d53-cef3-417b-bd39-86df2fbc493e",
   "metadata": {},
   "source": [
    "c) Find the sum of Series B"
   ]
  },
  {
   "cell_type": "code",
   "execution_count": 11,
   "id": "e81ed0a0-ca84-425f-96c2-dea5dae9e574",
   "metadata": {},
   "outputs": [
    {
     "name": "stdout",
     "output_type": "stream",
     "text": [
      "Sum of Series B is 350\n"
     ]
    }
   ],
   "source": [
    "sum=(df['Series_B'].sum())\n",
    "print(\"Sum of Series B is\",sum)"
   ]
  },
  {
   "cell_type": "code",
   "execution_count": null,
   "id": "607a8171-54f0-4586-8649-5f7a1a257dff",
   "metadata": {},
   "outputs": [],
   "source": []
  },
  {
   "cell_type": "markdown",
   "id": "d2fa32a4-3e1c-463b-87da-1b98cb16b30d",
   "metadata": {},
   "source": [
    "e) Find the mean of Series A"
   ]
  },
  {
   "cell_type": "code",
   "execution_count": 15,
   "id": "27b09f70-e91a-4c92-9d9a-c7e33f398485",
   "metadata": {},
   "outputs": [
    {
     "name": "stdout",
     "output_type": "stream",
     "text": [
      "Sum of Series B is 40.0\n"
     ]
    }
   ],
   "source": [
    "mean=(df['Series_A'].mean())\n",
    "print(\"Sum of Series B is\",mean)"
   ]
  },
  {
   "cell_type": "code",
   "execution_count": null,
   "id": "5ebd12f2-0f9e-48b6-95a1-f9bbefb1f576",
   "metadata": {},
   "outputs": [],
   "source": []
  },
  {
   "cell_type": "markdown",
   "id": "e114872e-9c7a-402b-898c-3cd39fa566e0",
   "metadata": {},
   "source": [
    "f) Find the median in given  Series B"
   ]
  },
  {
   "cell_type": "code",
   "execution_count": 17,
   "id": "62fe0c0a-c027-47ab-83e6-3813e7459b82",
   "metadata": {},
   "outputs": [
    {
     "name": "stdout",
     "output_type": "stream",
     "text": [
      "Sum of Series B is 70.0\n"
     ]
    }
   ],
   "source": [
    "median=(df['Series_B'].median())\n",
    "print(\"Sum of Series B is\",median)"
   ]
  },
  {
   "cell_type": "code",
   "execution_count": null,
   "id": "04e611a1-4fad-4261-a18f-dd366d43e8b9",
   "metadata": {},
   "outputs": [],
   "source": []
  },
  {
   "cell_type": "markdown",
   "id": "0952d30c-683e-43a6-8ccb-784dda61c45a",
   "metadata": {},
   "source": [
    "4) Perform the follwing opertion on car manufacturing compay dataset autompg.csv below using\n",
    "\n",
    "a) Read data from an existin file.\n"
   ]
  },
  {
   "cell_type": "code",
   "execution_count": null,
   "id": "07d12d3e-0a3e-4ce9-9beb-f59581831f03",
   "metadata": {},
   "outputs": [],
   "source": [
    "import pandas as pd"
   ]
  },
  {
   "cell_type": "code",
   "execution_count": null,
   "id": "3dec9555-f3f7-4d67-aed7-da0bb91e16ff",
   "metadata": {},
   "outputs": [],
   "source": []
  },
  {
   "cell_type": "code",
   "execution_count": null,
   "id": "76a2b17c-8320-4750-81b3-7d502fa5d6d3",
   "metadata": {},
   "outputs": [],
   "source": []
  },
  {
   "cell_type": "code",
   "execution_count": null,
   "id": "f252b457-3c79-4b06-9d47-55886b85300d",
   "metadata": {},
   "outputs": [],
   "source": []
  },
  {
   "cell_type": "code",
   "execution_count": null,
   "id": "5c92dfbf-1960-4c45-99ba-98bb8eee848f",
   "metadata": {},
   "outputs": [],
   "source": []
  },
  {
   "cell_type": "code",
   "execution_count": null,
   "id": "91e46ba1-bc0e-41b7-a144-a4814c472a8b",
   "metadata": {},
   "outputs": [],
   "source": []
  },
  {
   "cell_type": "markdown",
   "id": "c0c8acdb-a9ec-4b3d-af22-389922f51f40",
   "metadata": {},
   "source": [
    "5) for given dataset perform the following operations:"
   ]
  },
  {
   "cell_type": "code",
   "execution_count": 26,
   "id": "5320b944-468e-4a15-822d-712c4a31ab59",
   "metadata": {},
   "outputs": [],
   "source": [
    "import pandas as pd\n",
    "import matplotlib.pyplot as plt"
   ]
  },
  {
   "cell_type": "code",
   "execution_count": 45,
   "id": "d9967f2a-28df-4292-9caf-2b785b7512bf",
   "metadata": {},
   "outputs": [
    {
     "name": "stdout",
     "output_type": "stream",
     "text": [
      "   Number  pencil  Test_Books  Drawing_Sheet  Profits\n",
      "0       1     300         250            800    80000\n",
      "1       2     350         350           1000    95000\n",
      "2       3     400         400           1320    10256\n",
      "3       4     500         420           1510    12000\n",
      "4       5     520         500           2000    18000\n"
     ]
    }
   ],
   "source": [
    "data={\n",
    "    \"Number\":[1,2,3,4,5],\n",
    "    \"pencil\":[300,350,400,500,520],\n",
    "    \"Test_Books\":[250,350,400,420,500],\n",
    "    \"Drawing_Sheet\":[800,1000,1320,1510,2000],\n",
    "    \"Profits\":[80000,95000,10256,12000,18000]\n",
    "}\n",
    "df=pd.DataFrame(data)\n",
    "print(df)"
   ]
  },
  {
   "cell_type": "markdown",
   "id": "b6e5c20d-e086-4588-b2b4-551cfb2b9a99",
   "metadata": {},
   "source": [
    "a) Check the statistics info of the data."
   ]
  },
  {
   "cell_type": "code",
   "execution_count": 46,
   "id": "678afc39-ceb2-4469-9f94-9f3ad3ce8a64",
   "metadata": {},
   "outputs": [
    {
     "data": {
      "text/html": [
       "<div>\n",
       "<style scoped>\n",
       "    .dataframe tbody tr th:only-of-type {\n",
       "        vertical-align: middle;\n",
       "    }\n",
       "\n",
       "    .dataframe tbody tr th {\n",
       "        vertical-align: top;\n",
       "    }\n",
       "\n",
       "    .dataframe thead th {\n",
       "        text-align: right;\n",
       "    }\n",
       "</style>\n",
       "<table border=\"1\" class=\"dataframe\">\n",
       "  <thead>\n",
       "    <tr style=\"text-align: right;\">\n",
       "      <th></th>\n",
       "      <th>Number</th>\n",
       "      <th>pencil</th>\n",
       "      <th>Test_Books</th>\n",
       "      <th>Drawing_Sheet</th>\n",
       "      <th>Profits</th>\n",
       "    </tr>\n",
       "  </thead>\n",
       "  <tbody>\n",
       "    <tr>\n",
       "      <th>count</th>\n",
       "      <td>5.000000</td>\n",
       "      <td>5.000000</td>\n",
       "      <td>5.000000</td>\n",
       "      <td>5.000000</td>\n",
       "      <td>5.000000</td>\n",
       "    </tr>\n",
       "    <tr>\n",
       "      <th>mean</th>\n",
       "      <td>3.000000</td>\n",
       "      <td>414.000000</td>\n",
       "      <td>384.000000</td>\n",
       "      <td>1326.000000</td>\n",
       "      <td>43051.200000</td>\n",
       "    </tr>\n",
       "    <tr>\n",
       "      <th>std</th>\n",
       "      <td>1.581139</td>\n",
       "      <td>94.762862</td>\n",
       "      <td>92.357999</td>\n",
       "      <td>466.669048</td>\n",
       "      <td>41021.812578</td>\n",
       "    </tr>\n",
       "    <tr>\n",
       "      <th>min</th>\n",
       "      <td>1.000000</td>\n",
       "      <td>300.000000</td>\n",
       "      <td>250.000000</td>\n",
       "      <td>800.000000</td>\n",
       "      <td>10256.000000</td>\n",
       "    </tr>\n",
       "    <tr>\n",
       "      <th>25%</th>\n",
       "      <td>2.000000</td>\n",
       "      <td>350.000000</td>\n",
       "      <td>350.000000</td>\n",
       "      <td>1000.000000</td>\n",
       "      <td>12000.000000</td>\n",
       "    </tr>\n",
       "    <tr>\n",
       "      <th>50%</th>\n",
       "      <td>3.000000</td>\n",
       "      <td>400.000000</td>\n",
       "      <td>400.000000</td>\n",
       "      <td>1320.000000</td>\n",
       "      <td>18000.000000</td>\n",
       "    </tr>\n",
       "    <tr>\n",
       "      <th>75%</th>\n",
       "      <td>4.000000</td>\n",
       "      <td>500.000000</td>\n",
       "      <td>420.000000</td>\n",
       "      <td>1510.000000</td>\n",
       "      <td>80000.000000</td>\n",
       "    </tr>\n",
       "    <tr>\n",
       "      <th>max</th>\n",
       "      <td>5.000000</td>\n",
       "      <td>520.000000</td>\n",
       "      <td>500.000000</td>\n",
       "      <td>2000.000000</td>\n",
       "      <td>95000.000000</td>\n",
       "    </tr>\n",
       "  </tbody>\n",
       "</table>\n",
       "</div>"
      ],
      "text/plain": [
       "         Number      pencil  Test_Books  Drawing_Sheet       Profits\n",
       "count  5.000000    5.000000    5.000000       5.000000      5.000000\n",
       "mean   3.000000  414.000000  384.000000    1326.000000  43051.200000\n",
       "std    1.581139   94.762862   92.357999     466.669048  41021.812578\n",
       "min    1.000000  300.000000  250.000000     800.000000  10256.000000\n",
       "25%    2.000000  350.000000  350.000000    1000.000000  12000.000000\n",
       "50%    3.000000  400.000000  400.000000    1320.000000  18000.000000\n",
       "75%    4.000000  500.000000  420.000000    1510.000000  80000.000000\n",
       "max    5.000000  520.000000  500.000000    2000.000000  95000.000000"
      ]
     },
     "execution_count": 46,
     "metadata": {},
     "output_type": "execute_result"
    }
   ],
   "source": [
    "df.describe()"
   ]
  },
  {
   "cell_type": "markdown",
   "id": "ed35fd96-273c-4cd8-bd95-613bea9865e2",
   "metadata": {},
   "source": [
    "b) plot line chart/plot showing total profit on y-axis and number column on x-axis"
   ]
  },
  {
   "cell_type": "code",
   "execution_count": 47,
   "id": "10ad8438-3800-4b1b-8e23-e9cd29bc9a40",
   "metadata": {},
   "outputs": [
    {
     "data": {
      "image/png": "[encoded data removed]",
      "text/plain": [
       "<Figure size 640x480 with 1 Axes>"
      ]
     },
     "metadata": {},
     "output_type": "display_data"
    }
   ],
   "source": [
    "plt.plot(df[\"Number\"],df[\"Profits\"],marker='o',c='red')\n",
    "plt.title(\"total Profits vs Number\")\n",
    "plt.xlabel(\"Number\")\n",
    "plt.ylabel(\"Profits\")\n",
    "plt.grid(True)\n",
    "plt.show()"
   ]
  },
  {
   "cell_type": "markdown",
   "id": "7d2078f1-7c9a-4ec2-ac45-47c359b6f3dd",
   "metadata": {},
   "source": [
    "c) Find the missing values."
   ]
  },
  {
   "cell_type": "code",
   "execution_count": 48,
   "id": "8c2a0594-7dee-4b4e-a01e-3d55788d57f4",
   "metadata": {},
   "outputs": [
    {
     "data": {
      "text/plain": [
       "Number           0\n",
       "pencil           0\n",
       "Test_Books       0\n",
       "Drawing_Sheet    0\n",
       "Profits          0\n",
       "dtype: int64"
      ]
     },
     "execution_count": 48,
     "metadata": {},
     "output_type": "execute_result"
    }
   ],
   "source": [
    "df.isnull().sum()"
   ]
  },
  {
   "cell_type": "markdown",
   "id": "fc71fedb-878f-46f3-8841-42b140a36d6e",
   "metadata": {},
   "source": [
    "d) Find the sum of total profits."
   ]
  },
  {
   "cell_type": "code",
   "execution_count": 49,
   "id": "69c644b3-12a3-4cc9-836e-ca9c56bec532",
   "metadata": {},
   "outputs": [
    {
     "name": "stdout",
     "output_type": "stream",
     "text": [
      "total Profits is 215256\n"
     ]
    }
   ],
   "source": [
    "tp=(df[\"Profits\"].sum())\n",
    "print(\"total Profits is\",tp)"
   ]
  },
  {
   "cell_type": "code",
   "execution_count": null,
   "id": "fa8bf21e-5b0a-405c-908e-3ee94a2d396b",
   "metadata": {},
   "outputs": [],
   "source": []
  },
  {
   "cell_type": "markdown",
   "id": "5717dd59-1920-4a0a-9712-57984df47d2e",
   "metadata": {},
   "source": [
    "6) Write a python code to explain map(),filter(),reduce(),lambda()\n",
    "\n",
    "   \n",
    "a) map() function"
   ]
  },
  {
   "cell_type": "code",
   "execution_count": 50,
   "id": "981d5e7c-4315-4992-8844-985b455befad",
   "metadata": {},
   "outputs": [],
   "source": [
    "import numpy as np\n",
    "arr=np.array([46,67,23,89,13,89])"
   ]
  },
  {
   "cell_type": "code",
   "execution_count": 51,
   "id": "672cb658-bae9-45a8-b972-59c54ca6404b",
   "metadata": {},
   "outputs": [
    {
     "name": "stdout",
     "output_type": "stream",
     "text": [
      "[30, 40, 50]\n"
     ]
    }
   ],
   "source": [
    "# adding number\n",
    "\n",
    "def add(a):\n",
    "    return a+20\n",
    "n1=[10,20,30]\n",
    "ad=list(map(add,n1))\n",
    "print(ad)"
   ]
  },
  {
   "cell_type": "code",
   "execution_count": 55,
   "id": "4b075930-7924-450d-99a6-a1f6b2f20d55",
   "metadata": {},
   "outputs": [
    {
     "name": "stdout",
     "output_type": "stream",
     "text": [
      " the sum is: 12\n"
     ]
    }
   ],
   "source": [
    "import numpy as np\n",
    "mat=[[1,2,3,4],[5,6,7,8],[9,10,11,12]]\n",
    "s=np.max(mat)\n",
    "print(\" the sum is:\",s)\n",
    "      "
   ]
  },
  {
   "cell_type": "markdown",
   "id": "b6160cf1-9289-4e59-aabc-7f1a06406b0f",
   "metadata": {},
   "source": [
    "b) Filter() function"
   ]
  },
  {
   "cell_type": "code",
   "execution_count": 58,
   "id": "e290f674-4eb5-4d0f-8330-85cbfed340db",
   "metadata": {},
   "outputs": [
    {
     "data": {
      "text/plain": [
       "[6000]"
      ]
     },
     "execution_count": 58,
     "metadata": {},
     "output_type": "execute_result"
    }
   ],
   "source": [
    "# 1\n",
    "def sal(a):\n",
    "    if a>4000:\n",
    "        return True\n",
    "l1=[2000,4000,2500,6000,4000]\n",
    "f=list(filter(sal,l1))\n",
    "f"
   ]
  },
  {
   "cell_type": "code",
   "execution_count": 60,
   "id": "939ec722-6396-4b2e-8982-df14514c81b2",
   "metadata": {},
   "outputs": [
    {
     "data": {
      "text/plain": [
       "[2000, 2500]"
      ]
     },
     "execution_count": 60,
     "metadata": {},
     "output_type": "execute_result"
    }
   ],
   "source": [
    "#2\n",
    "def de(a):\n",
    "    if a<4000:\n",
    "        return True\n",
    "l1=[2000,4000,2500,6000,4000]\n",
    "res=list(filter(de,l1))\n",
    "res"
   ]
  },
  {
   "cell_type": "markdown",
   "id": "24dfa2c8-9163-4503-8103-76296a95aa9a",
   "metadata": {},
   "source": [
    "#c) reduce() function"
   ]
  },
  {
   "cell_type": "code",
   "execution_count": 63,
   "id": "6708d028-2614-49d3-8dfd-3690e2ae139d",
   "metadata": {},
   "outputs": [
    {
     "data": {
      "text/plain": [
       "20"
      ]
     },
     "execution_count": 63,
     "metadata": {},
     "output_type": "execute_result"
    }
   ],
   "source": [
    "#  1\n",
    "from functools import reduce\n",
    "def add(x,y):\n",
    "    return x+y\n",
    "l1=[2,3,4,5,6]\n",
    "res=reduce(add,l1)\n",
    "res"
   ]
  },
  {
   "cell_type": "code",
   "execution_count": 64,
   "id": "2175a304-e7c1-4583-bf81-c24c9aba55a0",
   "metadata": {},
   "outputs": [
    {
     "data": {
      "text/plain": [
       "20"
      ]
     },
     "execution_count": 64,
     "metadata": {},
     "output_type": "execute_result"
    }
   ],
   "source": [
    "# 2\n",
    "from functools import reduce\n",
    "def sqr(a,b):\n",
    "    return a+b\n",
    "l1=[2,3,4,5,6]\n",
    "res=reduce(sqr,l1)\n",
    "res"
   ]
  },
  {
   "cell_type": "markdown",
   "id": "e2e210b3-e843-4309-8993-951aa3ccac9c",
   "metadata": {},
   "source": [
    "d) Lambda"
   ]
  },
  {
   "cell_type": "code",
   "execution_count": 66,
   "id": "e48f3ee2-074b-409b-a5e4-c1f9c6478e40",
   "metadata": {},
   "outputs": [
    {
     "name": "stdout",
     "output_type": "stream",
     "text": [
      "[16, 25, 49, 64, 4]\n"
     ]
    }
   ],
   "source": [
    "# 1\n",
    "n1=[4,5,7,8,2]\n",
    "se=list(map(lambda n:n*n,n1))\n",
    "print(se)"
   ]
  },
  {
   "cell_type": "code",
   "execution_count": null,
   "id": "a07440c8-78b6-4811-bc24-fa0afc27e007",
   "metadata": {},
   "outputs": [],
   "source": []
  },
  {
   "cell_type": "code",
   "execution_count": null,
   "id": "564a9993-fa5a-4f83-a5a6-88105a01df45",
   "metadata": {},
   "outputs": [],
   "source": []
  },
  {
   "cell_type": "code",
   "execution_count": null,
   "id": "1c2c613a-737b-497c-9bb9-ae5444f71789",
   "metadata": {},
   "outputs": [],
   "source": []
  },
  {
   "cell_type": "code",
   "execution_count": null,
   "id": "4f8d67cf-2635-4aed-ace5-571d3e11d6da",
   "metadata": {},
   "outputs": [],
   "source": []
  },
  {
   "cell_type": "markdown",
   "id": "085e4538-ac53-49d5-b6c6-e479310ad599",
   "metadata": {},
   "source": [
    "7 Assume that iris data set  is given and write the code"
   ]
  },
  {
   "cell_type": "code",
   "execution_count": 19,
   "id": "4c9f7fda-1300-44d1-9591-5ca2e7a7ccac",
   "metadata": {},
   "outputs": [
    {
     "data": {
      "text/html": [
       "<div>\n",
       "<style scoped>\n",
       "    .dataframe tbody tr th:only-of-type {\n",
       "        vertical-align: middle;\n",
       "    }\n",
       "\n",
       "    .dataframe tbody tr th {\n",
       "        vertical-align: top;\n",
       "    }\n",
       "\n",
       "    .dataframe thead th {\n",
       "        text-align: right;\n",
       "    }\n",
       "</style>\n",
       "<table border=\"1\" class=\"dataframe\">\n",
       "  <thead>\n",
       "    <tr style=\"text-align: right;\">\n",
       "      <th></th>\n",
       "      <th>Id</th>\n",
       "      <th>SepalLengthCm</th>\n",
       "      <th>SepalWidthCm</th>\n",
       "      <th>PetalLengthCm</th>\n",
       "      <th>PetalWidthCm</th>\n",
       "      <th>Species</th>\n",
       "    </tr>\n",
       "  </thead>\n",
       "  <tbody>\n",
       "    <tr>\n",
       "      <th>0</th>\n",
       "      <td>1</td>\n",
       "      <td>5.1</td>\n",
       "      <td>3.5</td>\n",
       "      <td>1.4</td>\n",
       "      <td>0.2</td>\n",
       "      <td>Iris-setosa</td>\n",
       "    </tr>\n",
       "    <tr>\n",
       "      <th>1</th>\n",
       "      <td>2</td>\n",
       "      <td>4.9</td>\n",
       "      <td>3.0</td>\n",
       "      <td>1.4</td>\n",
       "      <td>0.2</td>\n",
       "      <td>Iris-setosa</td>\n",
       "    </tr>\n",
       "    <tr>\n",
       "      <th>2</th>\n",
       "      <td>3</td>\n",
       "      <td>4.7</td>\n",
       "      <td>3.2</td>\n",
       "      <td>1.3</td>\n",
       "      <td>0.2</td>\n",
       "      <td>Iris-setosa</td>\n",
       "    </tr>\n",
       "    <tr>\n",
       "      <th>3</th>\n",
       "      <td>4</td>\n",
       "      <td>4.6</td>\n",
       "      <td>3.1</td>\n",
       "      <td>1.5</td>\n",
       "      <td>0.2</td>\n",
       "      <td>Iris-setosa</td>\n",
       "    </tr>\n",
       "    <tr>\n",
       "      <th>4</th>\n",
       "      <td>5</td>\n",
       "      <td>5.0</td>\n",
       "      <td>3.6</td>\n",
       "      <td>1.4</td>\n",
       "      <td>0.2</td>\n",
       "      <td>Iris-setosa</td>\n",
       "    </tr>\n",
       "    <tr>\n",
       "      <th>...</th>\n",
       "      <td>...</td>\n",
       "      <td>...</td>\n",
       "      <td>...</td>\n",
       "      <td>...</td>\n",
       "      <td>...</td>\n",
       "      <td>...</td>\n",
       "    </tr>\n",
       "    <tr>\n",
       "      <th>145</th>\n",
       "      <td>146</td>\n",
       "      <td>6.7</td>\n",
       "      <td>3.0</td>\n",
       "      <td>5.2</td>\n",
       "      <td>2.3</td>\n",
       "      <td>Iris-virginica</td>\n",
       "    </tr>\n",
       "    <tr>\n",
       "      <th>146</th>\n",
       "      <td>147</td>\n",
       "      <td>6.3</td>\n",
       "      <td>2.5</td>\n",
       "      <td>5.0</td>\n",
       "      <td>1.9</td>\n",
       "      <td>Iris-virginica</td>\n",
       "    </tr>\n",
       "    <tr>\n",
       "      <th>147</th>\n",
       "      <td>148</td>\n",
       "      <td>6.5</td>\n",
       "      <td>3.0</td>\n",
       "      <td>5.2</td>\n",
       "      <td>2.0</td>\n",
       "      <td>Iris-virginica</td>\n",
       "    </tr>\n",
       "    <tr>\n",
       "      <th>148</th>\n",
       "      <td>149</td>\n",
       "      <td>6.2</td>\n",
       "      <td>3.4</td>\n",
       "      <td>5.4</td>\n",
       "      <td>2.3</td>\n",
       "      <td>Iris-virginica</td>\n",
       "    </tr>\n",
       "    <tr>\n",
       "      <th>149</th>\n",
       "      <td>150</td>\n",
       "      <td>5.9</td>\n",
       "      <td>3.0</td>\n",
       "      <td>5.1</td>\n",
       "      <td>1.8</td>\n",
       "      <td>Iris-virginica</td>\n",
       "    </tr>\n",
       "  </tbody>\n",
       "</table>\n",
       "<p>150 rows × 6 columns</p>\n",
       "</div>"
      ],
      "text/plain": [
       "      Id  SepalLengthCm  SepalWidthCm  PetalLengthCm  PetalWidthCm  \\\n",
       "0      1            5.1           3.5            1.4           0.2   \n",
       "1      2            4.9           3.0            1.4           0.2   \n",
       "2      3            4.7           3.2            1.3           0.2   \n",
       "3      4            4.6           3.1            1.5           0.2   \n",
       "4      5            5.0           3.6            1.4           0.2   \n",
       "..   ...            ...           ...            ...           ...   \n",
       "145  146            6.7           3.0            5.2           2.3   \n",
       "146  147            6.3           2.5            5.0           1.9   \n",
       "147  148            6.5           3.0            5.2           2.0   \n",
       "148  149            6.2           3.4            5.4           2.3   \n",
       "149  150            5.9           3.0            5.1           1.8   \n",
       "\n",
       "            Species  \n",
       "0       Iris-setosa  \n",
       "1       Iris-setosa  \n",
       "2       Iris-setosa  \n",
       "3       Iris-setosa  \n",
       "4       Iris-setosa  \n",
       "..              ...  \n",
       "145  Iris-virginica  \n",
       "146  Iris-virginica  \n",
       "147  Iris-virginica  \n",
       "148  Iris-virginica  \n",
       "149  Iris-virginica  \n",
       "\n",
       "[150 rows x 6 columns]"
      ]
     },
     "execution_count": 19,
     "metadata": {},
     "output_type": "execute_result"
    }
   ],
   "source": [
    "import pandas as pd\n",
    "import numpy as np\n",
    "import matplotlib.pyplot as plt\n",
    "df=pd.read_csv('Downloads/iris.csv')\n",
    "df"
   ]
  },
  {
   "cell_type": "markdown",
   "id": "c9a0966b-537a-4c78-97d7-044904ff91f0",
   "metadata": {},
   "source": [
    "a) . frint the five recordes"
   ]
  },
  {
   "cell_type": "code",
   "execution_count": 20,
   "id": "8e9d557f-8acc-4e33-af63-db989a15302e",
   "metadata": {},
   "outputs": [
    {
     "data": {
      "text/html": [
       "<div>\n",
       "<style scoped>\n",
       "    .dataframe tbody tr th:only-of-type {\n",
       "        vertical-align: middle;\n",
       "    }\n",
       "\n",
       "    .dataframe tbody tr th {\n",
       "        vertical-align: top;\n",
       "    }\n",
       "\n",
       "    .dataframe thead th {\n",
       "        text-align: right;\n",
       "    }\n",
       "</style>\n",
       "<table border=\"1\" class=\"dataframe\">\n",
       "  <thead>\n",
       "    <tr style=\"text-align: right;\">\n",
       "      <th></th>\n",
       "      <th>Id</th>\n",
       "      <th>SepalLengthCm</th>\n",
       "      <th>SepalWidthCm</th>\n",
       "      <th>PetalLengthCm</th>\n",
       "      <th>PetalWidthCm</th>\n",
       "      <th>Species</th>\n",
       "    </tr>\n",
       "  </thead>\n",
       "  <tbody>\n",
       "    <tr>\n",
       "      <th>0</th>\n",
       "      <td>1</td>\n",
       "      <td>5.1</td>\n",
       "      <td>3.5</td>\n",
       "      <td>1.4</td>\n",
       "      <td>0.2</td>\n",
       "      <td>Iris-setosa</td>\n",
       "    </tr>\n",
       "    <tr>\n",
       "      <th>1</th>\n",
       "      <td>2</td>\n",
       "      <td>4.9</td>\n",
       "      <td>3.0</td>\n",
       "      <td>1.4</td>\n",
       "      <td>0.2</td>\n",
       "      <td>Iris-setosa</td>\n",
       "    </tr>\n",
       "    <tr>\n",
       "      <th>2</th>\n",
       "      <td>3</td>\n",
       "      <td>4.7</td>\n",
       "      <td>3.2</td>\n",
       "      <td>1.3</td>\n",
       "      <td>0.2</td>\n",
       "      <td>Iris-setosa</td>\n",
       "    </tr>\n",
       "    <tr>\n",
       "      <th>3</th>\n",
       "      <td>4</td>\n",
       "      <td>4.6</td>\n",
       "      <td>3.1</td>\n",
       "      <td>1.5</td>\n",
       "      <td>0.2</td>\n",
       "      <td>Iris-setosa</td>\n",
       "    </tr>\n",
       "    <tr>\n",
       "      <th>4</th>\n",
       "      <td>5</td>\n",
       "      <td>5.0</td>\n",
       "      <td>3.6</td>\n",
       "      <td>1.4</td>\n",
       "      <td>0.2</td>\n",
       "      <td>Iris-setosa</td>\n",
       "    </tr>\n",
       "  </tbody>\n",
       "</table>\n",
       "</div>"
      ],
      "text/plain": [
       "   Id  SepalLengthCm  SepalWidthCm  PetalLengthCm  PetalWidthCm      Species\n",
       "0   1            5.1           3.5            1.4           0.2  Iris-setosa\n",
       "1   2            4.9           3.0            1.4           0.2  Iris-setosa\n",
       "2   3            4.7           3.2            1.3           0.2  Iris-setosa\n",
       "3   4            4.6           3.1            1.5           0.2  Iris-setosa\n",
       "4   5            5.0           3.6            1.4           0.2  Iris-setosa"
      ]
     },
     "execution_count": 20,
     "metadata": {},
     "output_type": "execute_result"
    }
   ],
   "source": [
    "df.head()\n"
   ]
  },
  {
   "cell_type": "markdown",
   "id": "1958dd9b-eaa4-4417-a2f0-dcfb6467879c",
   "metadata": {},
   "source": [
    "b). Print the size og the data given dataset"
   ]
  },
  {
   "cell_type": "code",
   "execution_count": 21,
   "id": "d2d636b6-92ca-4eb4-b85d-2410fd2f5672",
   "metadata": {},
   "outputs": [
    {
     "data": {
      "text/plain": [
       "(150, 6)"
      ]
     },
     "execution_count": 21,
     "metadata": {},
     "output_type": "execute_result"
    }
   ],
   "source": [
    "df.shape"
   ]
  },
  {
   "cell_type": "markdown",
   "id": "440051db-4dcb-42a5-a96e-8452bac0c7c5",
   "metadata": {},
   "source": [
    "c).Use Scatter plot to compere petal length and petal width"
   ]
  },
  {
   "cell_type": "code",
   "execution_count": 22,
   "id": "2c6e1f47-925c-437d-8f1a-0f469ecf69a5",
   "metadata": {},
   "outputs": [
    {
     "data": {
      "image/png": "[encoded data removed]",
      "text/plain": [
       "<Figure size 640x480 with 1 Axes>"
      ]
     },
     "metadata": {},
     "output_type": "display_data"
    }
   ],
   "source": [
    "plt.scatter(df['PetalLengthCm'],df['PetalWidthCm'])\n",
    "plt.xlabel('PetalLengthCm')\n",
    "plt.ylabel('PetalWidthCm')\n",
    "plt.title('Scatter Plot of Iris')\n",
    "plt.show()"
   ]
  },
  {
   "cell_type": "markdown",
   "id": "f72518f7-9092-45f7-8c41-aeae20ac454a",
   "metadata": {},
   "source": [
    "d) Check for missing values"
   ]
  },
  {
   "cell_type": "code",
   "execution_count": 23,
   "id": "ba346e4c-edf9-4b62-ab16-41217865bbec",
   "metadata": {},
   "outputs": [
    {
     "data": {
      "text/plain": [
       "Id               0\n",
       "SepalLengthCm    0\n",
       "SepalWidthCm     0\n",
       "PetalLengthCm    0\n",
       "PetalWidthCm     0\n",
       "Species          0\n",
       "dtype: int64"
      ]
     },
     "execution_count": 23,
     "metadata": {},
     "output_type": "execute_result"
    }
   ],
   "source": [
    "df.isnull().sum()"
   ]
  },
  {
   "cell_type": "markdown",
   "id": "73c9c21f-e323-4dd1-9285-a8742f44d7b1",
   "metadata": {},
   "source": [
    "e) Print the summurizes of the dataset "
   ]
  },
  {
   "cell_type": "code",
   "execution_count": 24,
   "id": "bf4522f2-c27d-4c77-99eb-e55af68bd20c",
   "metadata": {},
   "outputs": [
    {
     "data": {
      "text/html": [
       "<div>\n",
       "<style scoped>\n",
       "    .dataframe tbody tr th:only-of-type {\n",
       "        vertical-align: middle;\n",
       "    }\n",
       "\n",
       "    .dataframe tbody tr th {\n",
       "        vertical-align: top;\n",
       "    }\n",
       "\n",
       "    .dataframe thead th {\n",
       "        text-align: right;\n",
       "    }\n",
       "</style>\n",
       "<table border=\"1\" class=\"dataframe\">\n",
       "  <thead>\n",
       "    <tr style=\"text-align: right;\">\n",
       "      <th></th>\n",
       "      <th>Id</th>\n",
       "      <th>SepalLengthCm</th>\n",
       "      <th>SepalWidthCm</th>\n",
       "      <th>PetalLengthCm</th>\n",
       "      <th>PetalWidthCm</th>\n",
       "    </tr>\n",
       "  </thead>\n",
       "  <tbody>\n",
       "    <tr>\n",
       "      <th>count</th>\n",
       "      <td>150.000000</td>\n",
       "      <td>150.000000</td>\n",
       "      <td>150.000000</td>\n",
       "      <td>150.000000</td>\n",
       "      <td>150.000000</td>\n",
       "    </tr>\n",
       "    <tr>\n",
       "      <th>mean</th>\n",
       "      <td>75.500000</td>\n",
       "      <td>5.843333</td>\n",
       "      <td>3.054000</td>\n",
       "      <td>3.758667</td>\n",
       "      <td>1.198667</td>\n",
       "    </tr>\n",
       "    <tr>\n",
       "      <th>std</th>\n",
       "      <td>43.445368</td>\n",
       "      <td>0.828066</td>\n",
       "      <td>0.433594</td>\n",
       "      <td>1.764420</td>\n",
       "      <td>0.763161</td>\n",
       "    </tr>\n",
       "    <tr>\n",
       "      <th>min</th>\n",
       "      <td>1.000000</td>\n",
       "      <td>4.300000</td>\n",
       "      <td>2.000000</td>\n",
       "      <td>1.000000</td>\n",
       "      <td>0.100000</td>\n",
       "    </tr>\n",
       "    <tr>\n",
       "      <th>25%</th>\n",
       "      <td>38.250000</td>\n",
       "      <td>5.100000</td>\n",
       "      <td>2.800000</td>\n",
       "      <td>1.600000</td>\n",
       "      <td>0.300000</td>\n",
       "    </tr>\n",
       "    <tr>\n",
       "      <th>50%</th>\n",
       "      <td>75.500000</td>\n",
       "      <td>5.800000</td>\n",
       "      <td>3.000000</td>\n",
       "      <td>4.350000</td>\n",
       "      <td>1.300000</td>\n",
       "    </tr>\n",
       "    <tr>\n",
       "      <th>75%</th>\n",
       "      <td>112.750000</td>\n",
       "      <td>6.400000</td>\n",
       "      <td>3.300000</td>\n",
       "      <td>5.100000</td>\n",
       "      <td>1.800000</td>\n",
       "    </tr>\n",
       "    <tr>\n",
       "      <th>max</th>\n",
       "      <td>150.000000</td>\n",
       "      <td>7.900000</td>\n",
       "      <td>4.400000</td>\n",
       "      <td>6.900000</td>\n",
       "      <td>2.500000</td>\n",
       "    </tr>\n",
       "  </tbody>\n",
       "</table>\n",
       "</div>"
      ],
      "text/plain": [
       "               Id  SepalLengthCm  SepalWidthCm  PetalLengthCm  PetalWidthCm\n",
       "count  150.000000     150.000000    150.000000     150.000000    150.000000\n",
       "mean    75.500000       5.843333      3.054000       3.758667      1.198667\n",
       "std     43.445368       0.828066      0.433594       1.764420      0.763161\n",
       "min      1.000000       4.300000      2.000000       1.000000      0.100000\n",
       "25%     38.250000       5.100000      2.800000       1.600000      0.300000\n",
       "50%     75.500000       5.800000      3.000000       4.350000      1.300000\n",
       "75%    112.750000       6.400000      3.300000       5.100000      1.800000\n",
       "max    150.000000       7.900000      4.400000       6.900000      2.500000"
      ]
     },
     "execution_count": 24,
     "metadata": {},
     "output_type": "execute_result"
    }
   ],
   "source": [
    "df.describe()"
   ]
  },
  {
   "cell_type": "markdown",
   "id": "6fd260b2-2fff-45b8-bc28-d66033e63c61",
   "metadata": {},
   "source": [
    "f.count the plot for spieses"
   ]
  },
  {
   "cell_type": "code",
   "execution_count": 25,
   "id": "71f3ed08-3d14-48f4-95af-8df59017d9b2",
   "metadata": {},
   "outputs": [
    {
     "data": {
      "text/plain": [
       "Species\n",
       "Iris-setosa        50\n",
       "Iris-versicolor    50\n",
       "Iris-virginica     50\n",
       "Name: count, dtype: int64"
      ]
     },
     "execution_count": 25,
     "metadata": {},
     "output_type": "execute_result"
    }
   ],
   "source": [
    "df['Species'].value_counts()"
   ]
  },
  {
   "cell_type": "code",
   "execution_count": 26,
   "id": "2615a818-2927-4a6e-b728-3325ec7829f7",
   "metadata": {},
   "outputs": [
    {
     "data": {
      "image/png": "[encoded data removed]",
      "text/plain": [
       "<Figure size 640x480 with 1 Axes>"
      ]
     },
     "metadata": {},
     "output_type": "display_data"
    }
   ],
   "source": [
    "plt.plot(df['Species'].value_counts())\n",
    "plt.title('count plot for Species')\n",
    "plt.show()"
   ]
  },
  {
   "cell_type": "markdown",
   "id": "f6ae287f-488c-4f95-afc9-7b00d493cc34",
   "metadata": {},
   "source": [
    "g)  Visualize the distrubution of any one column"
   ]
  },
  {
   "cell_type": "code",
   "execution_count": 27,
   "id": "f405c138-befb-4f9a-85a5-1cb8a3f5ad55",
   "metadata": {},
   "outputs": [
    {
     "data": {
      "image/png": "[encoded data removed]",
      "text/plain": [
       "<Figure size 640x480 with 1 Axes>"
      ]
     },
     "metadata": {},
     "output_type": "display_data"
    }
   ],
   "source": [
    "plt.hist(df['SepalLengthCm'])\n",
    "plt.title('Distrubution of SepalLengthCm')\n",
    "plt.show()"
   ]
  },
  {
   "cell_type": "markdown",
   "id": "a3ee7834-bee4-41b8-9e09-e30f84ec449d",
   "metadata": {},
   "source": [
    "h. Visualiz the releshtionship betwen any two variable"
   ]
  },
  {
   "cell_type": "code",
   "execution_count": 28,
   "id": "9375b105-7b92-45f2-85ab-aa77b1627cb0",
   "metadata": {},
   "outputs": [
    {
     "data": {
      "image/png": "[encoded data removed]",
      "text/plain": [
       "<Figure size 640x480 with 1 Axes>"
      ]
     },
     "metadata": {},
     "output_type": "display_data"
    }
   ],
   "source": [
    "plt.scatter(df['PetalLengthCm'],df['PetalWidthCm'])\n",
    "plt.xlabel('PetalLengthCm')\n",
    "plt.ylabel('PetalWidthCm')\n",
    "plt.title('petallenth vs width')\n",
    "plt.show()"
   ]
  },
  {
   "cell_type": "markdown",
   "id": "df691e21-ad83-40ab-bfaf-433dc6a0e033",
   "metadata": {},
   "source": [
    "I)  .Print the information f all column in database"
   ]
  },
  {
   "cell_type": "code",
   "execution_count": 29,
   "id": "2cad6e2f-8cde-4792-82da-31eb06875b65",
   "metadata": {},
   "outputs": [
    {
     "name": "stdout",
     "output_type": "stream",
     "text": [
      "<class 'pandas.core.frame.DataFrame'>\n",
      "RangeIndex: 150 entries, 0 to 149\n",
      "Data columns (total 6 columns):\n",
      " #   Column         Non-Null Count  Dtype  \n",
      "---  ------         --------------  -----  \n",
      " 0   Id             150 non-null    int64  \n",
      " 1   SepalLengthCm  150 non-null    float64\n",
      " 2   SepalWidthCm   150 non-null    float64\n",
      " 3   PetalLengthCm  150 non-null    float64\n",
      " 4   PetalWidthCm   150 non-null    float64\n",
      " 5   Species        150 non-null    object \n",
      "dtypes: float64(4), int64(1), object(1)\n",
      "memory usage: 7.2+ KB\n"
     ]
    }
   ],
   "source": [
    "df.info()"
   ]
  },
  {
   "cell_type": "markdown",
   "id": "1d1bdd2e-efb4-42c0-91b9-479783dd1fdf",
   "metadata": {},
   "source": [
    "J) . Visualize the spesis column using Bargraph"
   ]
  },
  {
   "cell_type": "code",
   "execution_count": 32,
   "id": "3e1977e6-668a-465f-8a42-257b6d27c1fe",
   "metadata": {},
   "outputs": [
    {
     "data": {
      "text/plain": [
       "<BarContainer object of 3 artists>"
      ]
     },
     "execution_count": 32,
     "metadata": {},
     "output_type": "execute_result"
    },
    {
     "data": {
      "image/png": "[encoded data removed]",
      "text/plain": [
       "<Figure size 640x480 with 1 Axes>"
      ]
     },
     "metadata": {},
     "output_type": "display_data"
    }
   ],
   "source": [
    "plt.bar(df['Species'].value_counts().index,df['Species'].value_counts().values)\n"
   ]
  },
  {
   "cell_type": "code",
   "execution_count": null,
   "id": "fce6b9f6-0609-454c-9030-d07e66b25032",
   "metadata": {},
   "outputs": [],
   "source": []
  },
  {
   "cell_type": "code",
   "execution_count": null,
   "id": "79221ac2-df60-42ea-8c87-ba36028c731a",
   "metadata": {},
   "outputs": [],
   "source": []
  }
 ],
 "metadata": {
  "kernelspec": {
   "display_name": "Python 3 (ipykernel)",
   "language": "python",
   "name": "python3"
  },
  "language_info": {
   "codemirror_mode": {
    "name": "ipython",
    "version": 3
   },
   "file_extension": ".py",
   "mimetype": "text/x-python",
   "name": "python",
   "nbconvert_exporter": "python",
   "pygments_lexer": "ipython3",
   "version": "3.12.4"
  }
 },
 "nbformat": 4,
 "nbformat_minor": 5
}
