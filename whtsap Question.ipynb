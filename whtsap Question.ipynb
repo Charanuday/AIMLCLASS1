{
 "cells": [
  {
   "cell_type": "code",
   "execution_count": 29,
   "id": "e6cd4cf9-f28f-48c8-a923-deb0e7a72792",
   "metadata": {},
   "outputs": [
    {
     "name": "stdout",
     "output_type": "stream",
     "text": [
      "   ID    Name Gender  Age  Study_Hours  Attendance(%)  Marks_math  \\\n",
      "0   1    Riya      F   17          3.5             95          88   \n",
      "1   2   Arjun      M   18          2.0             82          75   \n",
      "2   3   Sneha      F   17          4.0             98          90   \n",
      "3   4  Rakesh      M   19          1.5             70          65   \n",
      "4   5   Aditi      F   18          3.8             92          95   \n",
      "5   6   Kiran      M   18          2.5             85          78   \n",
      "6   7  Anjali      F   17          4.2             99          91   \n",
      "7   8  Manish      M   19          1.0             65          60   \n",
      "\n",
      "   marks_Science grade  \n",
      "0             92     A  \n",
      "1             80     B  \n",
      "2             89     A  \n",
      "3             68     C  \n",
      "4             93     A  \n",
      "5             75     B  \n",
      "6             95     A  \n",
      "7             58     D  \n"
     ]
    }
   ],
   "source": [
    "import matplotlib.pyplot as plt\n",
    "import pandas as pd\n",
    "data ={\n",
    "    \"ID\":[1,2,3,4,5,6,7,8],\n",
    "    \"Name\":['Riya','Arjun','Sneha','Rakesh','Aditi','Kiran','Anjali','Manish'],\n",
    "    \"Gender\":['F','M','F','M','F','M','F','M'],\n",
    "    \"Age\":[17,18,17,19,18,18,17,19],\n",
    "    \"Study_Hours\":[3.5,2.0,4.0,1.5,3.8,2.5,4.2,1.0],\n",
    "    \"Attendance(%)\":[95,82,98,70,92,85,99,65],\n",
    "    \"Marks_math\":[88,75,90,65,95,78,91,60],\n",
    "    \"marks_Science\":[92,80,89,68,93,75,95,58],\n",
    "    \"grade\":['A','B','A','C','A','B','A','D']\n",
    "}\n",
    "df=pd.DataFrame(data)\n",
    "print(df)"
   ]
  },
  {
   "cell_type": "markdown",
   "id": "d6e0fdc1-ebe1-4ebe-beef-45bc8588aa08",
   "metadata": {},
   "source": [
    "🔹 2. Draw a bar chart of number of students per Grade\n"
   ]
  },
  {
   "cell_type": "code",
   "execution_count": 30,
   "id": "1e7878fc-3871-4ed9-965b-66f3ae231fdc",
   "metadata": {},
   "outputs": [
    {
     "data": {
      "text/html": [
       "<div>\n",
       "<style scoped>\n",
       "    .dataframe tbody tr th:only-of-type {\n",
       "        vertical-align: middle;\n",
       "    }\n",
       "\n",
       "    .dataframe tbody tr th {\n",
       "        vertical-align: top;\n",
       "    }\n",
       "\n",
       "    .dataframe thead th {\n",
       "        text-align: right;\n",
       "    }\n",
       "</style>\n",
       "<table border=\"1\" class=\"dataframe\">\n",
       "  <thead>\n",
       "    <tr style=\"text-align: right;\">\n",
       "      <th></th>\n",
       "      <th>ID</th>\n",
       "      <th>Name</th>\n",
       "      <th>Gender</th>\n",
       "      <th>Age</th>\n",
       "      <th>Study_Hours</th>\n",
       "      <th>Attendance(%)</th>\n",
       "      <th>Marks_math</th>\n",
       "      <th>marks_Science</th>\n",
       "      <th>grade</th>\n",
       "    </tr>\n",
       "  </thead>\n",
       "  <tbody>\n",
       "    <tr>\n",
       "      <th>0</th>\n",
       "      <td>1</td>\n",
       "      <td>Riya</td>\n",
       "      <td>F</td>\n",
       "      <td>17</td>\n",
       "      <td>3.5</td>\n",
       "      <td>95</td>\n",
       "      <td>88</td>\n",
       "      <td>92</td>\n",
       "      <td>A</td>\n",
       "    </tr>\n",
       "    <tr>\n",
       "      <th>1</th>\n",
       "      <td>2</td>\n",
       "      <td>Arjun</td>\n",
       "      <td>M</td>\n",
       "      <td>18</td>\n",
       "      <td>2.0</td>\n",
       "      <td>82</td>\n",
       "      <td>75</td>\n",
       "      <td>80</td>\n",
       "      <td>B</td>\n",
       "    </tr>\n",
       "    <tr>\n",
       "      <th>2</th>\n",
       "      <td>3</td>\n",
       "      <td>Sneha</td>\n",
       "      <td>F</td>\n",
       "      <td>17</td>\n",
       "      <td>4.0</td>\n",
       "      <td>98</td>\n",
       "      <td>90</td>\n",
       "      <td>89</td>\n",
       "      <td>A</td>\n",
       "    </tr>\n",
       "    <tr>\n",
       "      <th>3</th>\n",
       "      <td>4</td>\n",
       "      <td>Rakesh</td>\n",
       "      <td>M</td>\n",
       "      <td>19</td>\n",
       "      <td>1.5</td>\n",
       "      <td>70</td>\n",
       "      <td>65</td>\n",
       "      <td>68</td>\n",
       "      <td>C</td>\n",
       "    </tr>\n",
       "    <tr>\n",
       "      <th>4</th>\n",
       "      <td>5</td>\n",
       "      <td>Aditi</td>\n",
       "      <td>F</td>\n",
       "      <td>18</td>\n",
       "      <td>3.8</td>\n",
       "      <td>92</td>\n",
       "      <td>95</td>\n",
       "      <td>93</td>\n",
       "      <td>A</td>\n",
       "    </tr>\n",
       "  </tbody>\n",
       "</table>\n",
       "</div>"
      ],
      "text/plain": [
       "   ID    Name Gender  Age  Study_Hours  Attendance(%)  Marks_math  \\\n",
       "0   1    Riya      F   17          3.5             95          88   \n",
       "1   2   Arjun      M   18          2.0             82          75   \n",
       "2   3   Sneha      F   17          4.0             98          90   \n",
       "3   4  Rakesh      M   19          1.5             70          65   \n",
       "4   5   Aditi      F   18          3.8             92          95   \n",
       "\n",
       "   marks_Science grade  \n",
       "0             92     A  \n",
       "1             80     B  \n",
       "2             89     A  \n",
       "3             68     C  \n",
       "4             93     A  "
      ]
     },
     "execution_count": 30,
     "metadata": {},
     "output_type": "execute_result"
    }
   ],
   "source": [
    "df.head()"
   ]
  },
  {
   "cell_type": "markdown",
   "id": "fc01fbc8-53a4-4961-8e21-7878b622d344",
   "metadata": {},
   "source": [
    "🔹 3. Show the distribution of Study_Hours"
   ]
  },
  {
   "cell_type": "code",
   "execution_count": 31,
   "id": "5c2c4647-18f2-4e1a-98f7-c26d976541af",
   "metadata": {},
   "outputs": [
    {
     "data": {
      "text/plain": [
       "ID               0\n",
       "Name             0\n",
       "Gender           0\n",
       "Age              0\n",
       "Study_Hours      0\n",
       "Attendance(%)    0\n",
       "Marks_math       0\n",
       "marks_Science    0\n",
       "grade            0\n",
       "dtype: int64"
      ]
     },
     "execution_count": 31,
     "metadata": {},
     "output_type": "execute_result"
    }
   ],
   "source": [
    "df.isnull().sum()"
   ]
  },
  {
   "cell_type": "markdown",
   "id": "7743c701-08cd-4707-a952-8950ec83705b",
   "metadata": {},
   "source": [
    "🔹 1 Plot a histogram of Marks_Math\n"
   ]
  },
  {
   "cell_type": "code",
   "execution_count": 32,
   "id": "58f307d8-409f-4033-bfca-9cc70323adb4",
   "metadata": {},
   "outputs": [
    {
     "data": {
      "image/png": "[encoded data removed]",
      "text/plain": [
       "<Figure size 640x480 with 1 Axes>"
      ]
     },
     "metadata": {},
     "output_type": "display_data"
    }
   ],
   "source": [
    "plt.hist(df['Marks_math'])\n",
    "plt.xlabel('Marks_math')\n",
    "plt.ylabel('Study_Hours')\n",
    "plt.title('marks_math')\n",
    "plt.show()"
   ]
  },
  {
   "cell_type": "markdown",
   "id": "1ac7ba3c-0665-47e9-85f1-87be25c9f394",
   "metadata": {},
   "source": [
    "🔹 2. Draw a bar chart of number of students per Grade"
   ]
  },
  {
   "cell_type": "code",
   "execution_count": 33,
   "id": "28dd7d19-824b-4514-85aa-dac9d41fc187",
   "metadata": {},
   "outputs": [
    {
     "data": {
      "image/png": "[encoded data removed]",
      "text/plain": [
       "<Figure size 640x480 with 1 Axes>"
      ]
     },
     "metadata": {},
     "output_type": "display_data"
    }
   ],
   "source": [
    "grade_counts=df['grade'].value_counts()\n",
    "plt.bar(grade_counts.index, grade_counts.values)\n",
    "plt.title('number of students per grade')\n",
    "plt.xlabel('grade')\n",
    "plt.ylabel('count')\n",
    "plt.show()"
   ]
  },
  {
   "cell_type": "markdown",
   "id": "0ec7e0ef-f5c9-4adc-9d76-551680a747ba",
   "metadata": {},
   "source": [
    "🔹 3. Show the distribution of Study_Hours\n"
   ]
  },
  {
   "cell_type": "code",
   "execution_count": 34,
   "id": "2cfd6450-d11f-4f3b-a555-b843a04603e8",
   "metadata": {},
   "outputs": [
    {
     "data": {
      "image/png": "[encoded data removed]",
      "text/plain": [
       "<Figure size 640x480 with 1 Axes>"
      ]
     },
     "metadata": {},
     "output_type": "display_data"
    }
   ],
   "source": [
    "plt.boxplot(df['Study_Hours'])\n",
    "plt.title('distrubution of study hours')\n",
    "plt.show()"
   ]
  },
  {
   "cell_type": "markdown",
   "id": "e0a37ab6-8f43-44e0-b131-35d192742a6b",
   "metadata": {},
   "source": [
    "🔹 4. Plot a pie chart of gender distribution\n"
   ]
  },
  {
   "cell_type": "code",
   "execution_count": 35,
   "id": "1775108e-7d98-4bdb-9ce4-f14e80efd99d",
   "metadata": {},
   "outputs": [
    {
     "data": {
      "image/png": "[encoded data removed]",
      "text/plain": [
       "<Figure size 640x480 with 1 Axes>"
      ]
     },
     "metadata": {},
     "output_type": "display_data"
    }
   ],
   "source": [
    "gender=df[\"Gender\"].value_counts()\n",
    "plt.pie(gender,labels=gender.index,autopct='%1.1f%%')\n",
    "plt.title(\"gender distrubution\")\n",
    "plt.show()"
   ]
  },
  {
   "cell_type": "markdown",
   "id": "e2c2dbad-fa61-4759-9207-0082ef9ba08c",
   "metadata": {},
   "source": [
    "🔹 5. Plot the frequency of attendance percentage "
   ]
  },
  {
   "cell_type": "code",
   "execution_count": 37,
   "id": "78f8b687-5056-45c1-9229-47ce3fcd78f3",
   "metadata": {},
   "outputs": [
    {
     "ename": "NameError",
     "evalue": "name 'attendance_freq' is not defined",
     "output_type": "error",
     "traceback": [
      "\u001b[1;31m---------------------------------------------------------------------------\u001b[0m",
      "\u001b[1;31mNameError\u001b[0m                                 Traceback (most recent call last)",
      "Cell \u001b[1;32mIn[37], line 1\u001b[0m\n\u001b[1;32m----> 1\u001b[0m plt\u001b[38;5;241m.\u001b[39mbar(attendance_freq\u001b[38;5;241m.\u001b[39mindex, attendance_freq\u001b[38;5;241m.\u001b[39mvalues)\n\u001b[0;32m      2\u001b[0m plt\u001b[38;5;241m.\u001b[39mshow()\n",
      "\u001b[1;31mNameError\u001b[0m: name 'attendance_freq' is not defined"
     ]
    }
   ],
   "source": [
    "plt.bar(attendance_freq.index, attendance_freq.values)\n",
    "plt.show()"
   ]
  },
  {
   "cell_type": "code",
   "execution_count": null,
   "id": "ab81566a-9c7f-4cef-8d82-d7b233560ab4",
   "metadata": {},
   "outputs": [],
   "source": []
  }
 ],
 "metadata": {
  "kernelspec": {
   "display_name": "Python 3 (ipykernel)",
   "language": "python",
   "name": "python3"
  },
  "language_info": {
   "codemirror_mode": {
    "name": "ipython",
    "version": 3
   },
   "file_extension": ".py",
   "mimetype": "text/x-python",
   "name": "python",
   "nbconvert_exporter": "python",
   "pygments_lexer": "ipython3",
   "version": "3.12.4"
  }
 },
 "nbformat": 4,
 "nbformat_minor": 5
}
