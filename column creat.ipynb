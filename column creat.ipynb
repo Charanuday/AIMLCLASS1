{
 "cells": [
  {
   "cell_type": "code",
   "execution_count": 30,
   "id": "ffa3a444-7aa0-4470-a2fc-8af3b2d5f8b5",
   "metadata": {},
   "outputs": [
    {
     "data": {
      "text/html": [
       "<div>\n",
       "<style scoped>\n",
       "    .dataframe tbody tr th:only-of-type {\n",
       "        vertical-align: middle;\n",
       "    }\n",
       "\n",
       "    .dataframe tbody tr th {\n",
       "        vertical-align: top;\n",
       "    }\n",
       "\n",
       "    .dataframe thead th {\n",
       "        text-align: right;\n",
       "    }\n",
       "</style>\n",
       "<table border=\"1\" class=\"dataframe\">\n",
       "  <thead>\n",
       "    <tr style=\"text-align: right;\">\n",
       "      <th></th>\n",
       "      <th>Date</th>\n",
       "      <th>Event</th>\n",
       "      <th>Cost</th>\n",
       "    </tr>\n",
       "  </thead>\n",
       "  <tbody>\n",
       "    <tr>\n",
       "      <th>0</th>\n",
       "      <td>25-7-2025</td>\n",
       "      <td>Shopping</td>\n",
       "      <td>2000</td>\n",
       "    </tr>\n",
       "    <tr>\n",
       "      <th>1</th>\n",
       "      <td>26-7-2025</td>\n",
       "      <td>Marketing</td>\n",
       "      <td>1500</td>\n",
       "    </tr>\n",
       "    <tr>\n",
       "      <th>2</th>\n",
       "      <td>27-7-2025</td>\n",
       "      <td>Fruit saler</td>\n",
       "      <td>2500</td>\n",
       "    </tr>\n",
       "  </tbody>\n",
       "</table>\n",
       "</div>"
      ],
      "text/plain": [
       "        Date        Event  Cost\n",
       "0  25-7-2025     Shopping  2000\n",
       "1  26-7-2025    Marketing  1500\n",
       "2  27-7-2025  Fruit saler  2500"
      ]
     },
     "execution_count": 30,
     "metadata": {},
     "output_type": "execute_result"
    }
   ],
   "source": [
    "import pandas as pd\n",
    "data={\n",
    "    \"Date\":[\"25-7-2025\",\"26-7-2025\",\"27-7-2025\"],\n",
    "    \"Event\":[\"Shopping\",\"Marketing\",\"Fruit saler\"],\n",
    "    \"Cost\":[2000,1500,2500]\n",
    "}\n",
    "df=pd.DataFrame(data)\n",
    "df"
   ]
  },
  {
   "cell_type": "markdown",
   "id": "ef40ba19-113d-4705-b72b-8ab897f2f479",
   "metadata": {},
   "source": [
    "## add a Two new column count and discont"
   ]
  },
  {
   "cell_type": "code",
   "execution_count": 31,
   "id": "ea1de90f-5e7d-4bd4-a007-296b6ed0be05",
   "metadata": {},
   "outputs": [
    {
     "name": "stdout",
     "output_type": "stream",
     "text": [
      "        Date        Event  Cost  Discount_price  Discount\n",
      "0  25-7-2025     Shopping  2000          1800.0     200.0\n",
      "1  26-7-2025    Marketing  1500          1350.0     150.0\n",
      "2  27-7-2025  Fruit saler  2500          2250.0     250.0\n"
     ]
    }
   ],
   "source": [
    "\n",
    "df['Discount_price']=df.apply(lambda row:row.Cost - (row.Cost*0.1),axis=1)\n",
    "df['Discount']=df.apply(lambda row:row.Cost - row.Discount_price,axis=1)\n",
    "print(df)"
   ]
  },
  {
   "cell_type": "markdown",
   "id": "5d82a61e-309d-4f4f-b0ff-96d064e7bcdf",
   "metadata": {},
   "source": [
    "## Add two more data Events data objects data sets"
   ]
  },
  {
   "cell_type": "code",
   "execution_count": 34,
   "id": "a38a24dc-5bc2-4d9a-9f10-5a8f1b6eddff",
   "metadata": {},
   "outputs": [
    {
     "data": {
      "text/html": [
       "<div>\n",
       "<style scoped>\n",
       "    .dataframe tbody tr th:only-of-type {\n",
       "        vertical-align: middle;\n",
       "    }\n",
       "\n",
       "    .dataframe tbody tr th {\n",
       "        vertical-align: top;\n",
       "    }\n",
       "\n",
       "    .dataframe thead th {\n",
       "        text-align: right;\n",
       "    }\n",
       "</style>\n",
       "<table border=\"1\" class=\"dataframe\">\n",
       "  <thead>\n",
       "    <tr style=\"text-align: right;\">\n",
       "      <th></th>\n",
       "      <th>Date</th>\n",
       "      <th>Event</th>\n",
       "      <th>Cost</th>\n",
       "      <th>Discount_price</th>\n",
       "      <th>Discount</th>\n",
       "    </tr>\n",
       "  </thead>\n",
       "  <tbody>\n",
       "    <tr>\n",
       "      <th>0</th>\n",
       "      <td>25-7-2025</td>\n",
       "      <td>Shopping</td>\n",
       "      <td>2000</td>\n",
       "      <td>1800.0</td>\n",
       "      <td>200.0</td>\n",
       "    </tr>\n",
       "    <tr>\n",
       "      <th>1</th>\n",
       "      <td>26-7-2025</td>\n",
       "      <td>Marketing</td>\n",
       "      <td>1500</td>\n",
       "      <td>1350.0</td>\n",
       "      <td>150.0</td>\n",
       "    </tr>\n",
       "    <tr>\n",
       "      <th>2</th>\n",
       "      <td>27-7-2025</td>\n",
       "      <td>Fruit saler</td>\n",
       "      <td>2500</td>\n",
       "      <td>2250.0</td>\n",
       "      <td>250.0</td>\n",
       "    </tr>\n",
       "    <tr>\n",
       "      <th>3</th>\n",
       "      <td>14/2/2025</td>\n",
       "      <td>Xeox shop</td>\n",
       "      <td>18000</td>\n",
       "      <td>16000.0</td>\n",
       "      <td>2000.0</td>\n",
       "    </tr>\n",
       "    <tr>\n",
       "      <th>4</th>\n",
       "      <td>15/2/2025</td>\n",
       "      <td>Kirani shop</td>\n",
       "      <td>2500</td>\n",
       "      <td>2250.0</td>\n",
       "      <td>250.0</td>\n",
       "    </tr>\n",
       "  </tbody>\n",
       "</table>\n",
       "</div>"
      ],
      "text/plain": [
       "        Date        Event   Cost  Discount_price  Discount\n",
       "0  25-7-2025     Shopping   2000          1800.0     200.0\n",
       "1  26-7-2025    Marketing   1500          1350.0     150.0\n",
       "2  27-7-2025  Fruit saler   2500          2250.0     250.0\n",
       "3  14/2/2025    Xeox shop  18000         16000.0    2000.0\n",
       "4  15/2/2025  Kirani shop   2500          2250.0     250.0"
      ]
     },
     "execution_count": 34,
     "metadata": {},
     "output_type": "execute_result"
    }
   ],
   "source": [
    "df.loc[len(df.index)]=['14/2/2025','Xeox shop',18000,16000,2000]\n",
    "df.loc[len(df.index)]=['15/2/2025','Kirani shop',2500,2250,250]\n",
    "df\n"
   ]
  },
  {
   "cell_type": "markdown",
   "id": "caedb592-8bd3-4db2-8d32-e87287330bbe",
   "metadata": {},
   "source": [
    "## Mearjing the two data set"
   ]
  },
  {
   "cell_type": "code",
   "execution_count": 26,
   "id": "42d74a27-b830-4c27-b4f4-b850aac2e336",
   "metadata": {},
   "outputs": [
    {
     "data": {
      "text/html": [
       "<div>\n",
       "<style scoped>\n",
       "    .dataframe tbody tr th:only-of-type {\n",
       "        vertical-align: middle;\n",
       "    }\n",
       "\n",
       "    .dataframe tbody tr th {\n",
       "        vertical-align: top;\n",
       "    }\n",
       "\n",
       "    .dataframe thead th {\n",
       "        text-align: right;\n",
       "    }\n",
       "</style>\n",
       "<table border=\"1\" class=\"dataframe\">\n",
       "  <thead>\n",
       "    <tr style=\"text-align: right;\">\n",
       "      <th></th>\n",
       "      <th>Date</th>\n",
       "      <th>Event</th>\n",
       "      <th>Cost</th>\n",
       "    </tr>\n",
       "  </thead>\n",
       "  <tbody>\n",
       "    <tr>\n",
       "      <th>0</th>\n",
       "      <td>25-10-2025</td>\n",
       "      <td>Alim Stoe</td>\n",
       "      <td>500</td>\n",
       "    </tr>\n",
       "    <tr>\n",
       "      <th>1</th>\n",
       "      <td>26-10-2025</td>\n",
       "      <td>House rent</td>\n",
       "      <td>5000</td>\n",
       "    </tr>\n",
       "    <tr>\n",
       "      <th>2</th>\n",
       "      <td>27-10-2025</td>\n",
       "      <td>Water Bill</td>\n",
       "      <td>700</td>\n",
       "    </tr>\n",
       "  </tbody>\n",
       "</table>\n",
       "</div>"
      ],
      "text/plain": [
       "         Date       Event  Cost\n",
       "0  25-10-2025   Alim Stoe   500\n",
       "1  26-10-2025  House rent  5000\n",
       "2  27-10-2025  Water Bill   700"
      ]
     },
     "execution_count": 26,
     "metadata": {},
     "output_type": "execute_result"
    }
   ],
   "source": [
    "import pandas as pd\n",
    "data={\n",
    "    \"Date\":[\"25-10-2025\",\"26-10-2025\",\"27-10-2025\"],\n",
    "    \"Event\":[\"Alim Stoe\",\"House rent\",\"Water Bill\"],\n",
    "    \"Cost\":[500,5000,700]\n",
    "}\n",
    "df=pd.DataFrame(data)\n",
    "df"
   ]
  },
  {
   "cell_type": "code",
   "execution_count": null,
   "id": "1f5a530d-571f-4050-9f6a-46ddb3389b19",
   "metadata": {},
   "outputs": [],
   "source": []
  },
  {
   "cell_type": "code",
   "execution_count": null,
   "id": "c514c845-e40e-4808-9c32-550170a06fbd",
   "metadata": {},
   "outputs": [],
   "source": []
  }
 ],
 "metadata": {
  "kernelspec": {
   "display_name": "Python 3 (ipykernel)",
   "language": "python",
   "name": "python3"
  },
  "language_info": {
   "codemirror_mode": {
    "name": "ipython",
    "version": 3
   },
   "file_extension": ".py",
   "mimetype": "text/x-python",
   "name": "python",
   "nbconvert_exporter": "python",
   "pygments_lexer": "ipython3",
   "version": "3.12.4"
  }
 },
 "nbformat": 4,
 "nbformat_minor": 5
}
