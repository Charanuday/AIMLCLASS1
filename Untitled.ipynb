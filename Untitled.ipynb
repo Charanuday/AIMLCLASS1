{
 "cells": [
  {
   "cell_type": "code",
   "execution_count": 1,
   "id": "096bf285-89d9-4075-b604-ea3ef7155daa",
   "metadata": {},
   "outputs": [
    {
     "name": "stdout",
     "output_type": "stream",
     "text": [
      "   Rollno    Name  Age  Marks_math  Marks_Eng Gender\n",
      "0     101    Riya   17          88         92      F\n",
      "1     102   Arjun   18          75         85      M\n",
      "2     103   Sneha   17          90         78      F\n",
      "3     104  Rakesh   19          65         70      M\n",
      "4     105   Aditi   18          95         88      F\n"
     ]
    }
   ],
   "source": [
    "import pandas as pd\n",
    "data={\n",
    "    \"Rollno\":[101,102,103,104,105],\n",
    "    \"Name\":['Riya','Arjun','Sneha','Rakesh','Aditi'],\n",
    "    \"Age\":[17,18,17,19,18],\n",
    "    \"Marks_math\":[88,75,90,65,95],\n",
    "    \"Marks_Eng\":[92,85,78,70,88],\n",
    "    \"Gender\":['F','M','F','M','F'],\n",
    "}\n",
    "df=pd.DataFrame(data)\n",
    "print(df)"
   ]
  },
  {
   "cell_type": "code",
   "execution_count": 2,
   "id": "6e743be1-d187-420e-a42e-2023063c20ee",
   "metadata": {},
   "outputs": [
    {
     "name": "stdout",
     "output_type": "stream",
     "text": [
      "[1 2 3 4 5]\n"
     ]
    }
   ],
   "source": [
    "import numpy as np\n",
    "a=np.array([1,2,3,4,5])\n",
    "b=np.array([2,3,4,5,6])\n",
    "print(a)"
   ]
  },
  {
   "cell_type": "code",
   "execution_count": 3,
   "id": "592a25c5-f05d-4eae-9cbc-8bf8f87da030",
   "metadata": {},
   "outputs": [
    {
     "data": {
      "text/plain": [
       "Rollno          101\n",
       "Name          Aditi\n",
       "Age              17\n",
       "Marks_math       65\n",
       "Marks_Eng        70\n",
       "Gender            F\n",
       "dtype: object"
      ]
     },
     "execution_count": 3,
     "metadata": {},
     "output_type": "execute_result"
    }
   ],
   "source": [
    "df.min()"
   ]
  },
  {
   "cell_type": "code",
   "execution_count": 4,
   "id": "5feebf49-04dc-435e-8e9d-6906bfb1997c",
   "metadata": {},
   "outputs": [
    {
     "name": "stdout",
     "output_type": "stream",
     "text": [
      "15\n"
     ]
    }
   ],
   "source": [
    "s=(a.sum())\n",
    "print(s)"
   ]
  },
  {
   "cell_type": "code",
   "execution_count": 5,
   "id": "3027851c-71ed-4db6-b2f0-b8e34c44b21c",
   "metadata": {},
   "outputs": [
    {
     "name": "stdout",
     "output_type": "stream",
     "text": [
      "413\n"
     ]
    }
   ],
   "source": [
    "aa=df['Marks_Eng'].sum()\n",
    "print(aa)"
   ]
  },
  {
   "cell_type": "code",
   "execution_count": 6,
   "id": "ec934670-a306-4c8e-9ba2-0a81295aa9ee",
   "metadata": {},
   "outputs": [
    {
     "name": "stdout",
     "output_type": "stream",
     "text": [
      "70\n"
     ]
    }
   ],
   "source": [
    "aa=df['Marks_Eng'].min()\n",
    "print(aa)"
   ]
  },
  {
   "cell_type": "code",
   "execution_count": 7,
   "id": "ac22e9ed-3771-4d23-8c13-e0bbe02dfe01",
   "metadata": {},
   "outputs": [
    {
     "name": "stdout",
     "output_type": "stream",
     "text": [
      "82.6\n"
     ]
    }
   ],
   "source": [
    "aa=df['Marks_Eng'].mean()\n",
    "print(aa)"
   ]
  },
  {
   "cell_type": "code",
   "execution_count": 8,
   "id": "8afa8cb7-7986-4330-bde7-d5a0dd662a8e",
   "metadata": {},
   "outputs": [
    {
     "name": "stdout",
     "output_type": "stream",
     "text": [
      "85.0\n"
     ]
    }
   ],
   "source": [
    "aa=df['Marks_Eng'].median()\n",
    "print(aa)"
   ]
  },
  {
   "cell_type": "code",
   "execution_count": 9,
   "id": "231e2c48-bbcf-4e69-bec9-f1a279a2fa39",
   "metadata": {},
   "outputs": [
    {
     "name": "stdout",
     "output_type": "stream",
     "text": [
      "asdfg 5\n"
     ]
    }
   ],
   "source": [
    "aaa=(a.max())\n",
    "print(\"asdfg\",aaa)"
   ]
  },
  {
   "cell_type": "code",
   "execution_count": 10,
   "id": "92970841-f791-421e-80cb-68660f9936f8",
   "metadata": {},
   "outputs": [
    {
     "name": "stdout",
     "output_type": "stream",
     "text": [
      "95\n"
     ]
    }
   ],
   "source": [
    "ac=df['Marks_math'].max()\n",
    "print(ac)"
   ]
  },
  {
   "cell_type": "code",
   "execution_count": 11,
   "id": "da71b334-a0b5-4907-98ca-d76786d712e7",
   "metadata": {},
   "outputs": [
    {
     "name": "stdout",
     "output_type": "stream",
     "text": [
      "12.300406497347964\n"
     ]
    }
   ],
   "source": [
    "ac=df['Marks_math'].std()\n",
    "print(ac)          "
   ]
  },
  {
   "cell_type": "code",
   "execution_count": 12,
   "id": "d5dd856d-f0dc-4c85-b0c0-030075f85730",
   "metadata": {},
   "outputs": [
    {
     "name": "stdout",
     "output_type": "stream",
     "text": [
      "1.4142135623730951\n"
     ]
    }
   ],
   "source": [
    "ad=(a.std())\n",
    "print(ad)"
   ]
  },
  {
   "cell_type": "code",
   "execution_count": 13,
   "id": "9b09b10c-b4d3-4608-9b6b-e4e7fcf933c1",
   "metadata": {},
   "outputs": [
    {
     "data": {
      "text/plain": [
       "103.0"
      ]
     },
     "execution_count": 13,
     "metadata": {},
     "output_type": "execute_result"
    }
   ],
   "source": [
    "md=df['Rollno'].median()\n",
    "md"
   ]
  },
  {
   "cell_type": "code",
   "execution_count": 14,
   "id": "1db6b2f1-a006-4206-9486-6f6004e5205a",
   "metadata": {},
   "outputs": [
    {
     "name": "stdout",
     "output_type": "stream",
     "text": [
      "a array [10, 20, 30]\n",
      "B array [1, 2, 3]\n"
     ]
    }
   ],
   "source": [
    "import numpy as np\n",
    "a1=np.array=([10,20,30])\n",
    "b1=np.array=([1,2,3])\n",
    "print(\"a array\",a1)\n",
    "print(\"B array\",b1)"
   ]
  },
  {
   "cell_type": "code",
   "execution_count": 17,
   "id": "a3e1e4c2-9066-4512-8a15-65e7e7b7dd66",
   "metadata": {},
   "outputs": [
    {
     "name": "stdout",
     "output_type": "stream",
     "text": [
      "add: [ 3  5  7  9 11]\n",
      "Multipliction [ 2  6 12 20 30]\n"
     ]
    }
   ],
   "source": [
    "print(\"add:\",a+b)\n",
    "print(\"Multipliction\",a * b)"
   ]
  },
  {
   "cell_type": "code",
   "execution_count": null,
   "id": "3fb79107-c07c-4bda-8ffa-60003cf9b4a0",
   "metadata": {},
   "outputs": [],
   "source": []
  },
  {
   "cell_type": "code",
   "execution_count": null,
   "id": "4eb2bc52-5138-4249-8d35-95f879f81a4a",
   "metadata": {},
   "outputs": [],
   "source": []
  }
 ],
 "metadata": {
  "kernelspec": {
   "display_name": "Python 3 (ipykernel)",
   "language": "python",
   "name": "python3"
  },
  "language_info": {
   "codemirror_mode": {
    "name": "ipython",
    "version": 3
   },
   "file_extension": ".py",
   "mimetype": "text/x-python",
   "name": "python",
   "nbconvert_exporter": "python",
   "pygments_lexer": "ipython3",
   "version": "3.12.4"
  }
 },
 "nbformat": 4,
 "nbformat_minor": 5
}
